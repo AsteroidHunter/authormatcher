{
 "cells": [
  {
   "cell_type": "markdown",
   "source": [
    "# 2. Pre-processing newly acquired training data"
   ],
   "metadata": {
    "collapsed": false
   },
   "id": "ce9142b627dea596"
  },
  {
   "cell_type": "code",
   "execution_count": 1,
   "outputs": [],
   "source": [
    "import re\n",
    "import html\n",
    "import random\n",
    "import numpy as np\n",
    "import polars as pl\n",
    "from tqdm import tqdm\n",
    "from langdetect import detect\n",
    "import matplotlib.pyplot as plt\n",
    "# from plotting_preferences_AS import plotting_preferences_AS"
   ],
   "metadata": {
    "collapsed": false,
    "ExecuteTime": {
     "end_time": "2024-12-10T04:31:22.138140Z",
     "start_time": "2024-12-10T04:31:21.855026Z"
    }
   },
   "id": "initial_id"
  },
  {
   "cell_type": "code",
   "execution_count": 2,
   "outputs": [],
   "source": [
    "random.seed(894552352)\n",
    "np.random.seed(894552352)\n",
    "# plotting_preferences_AS()"
   ],
   "metadata": {
    "collapsed": false,
    "ExecuteTime": {
     "end_time": "2024-12-10T04:31:22.173289Z",
     "start_time": "2024-12-10T04:31:22.138726Z"
    }
   },
   "id": "4e1c3c312ca6d2b7"
  },
  {
   "cell_type": "code",
   "execution_count": 3,
   "outputs": [],
   "source": [
    "train = pl.read_csv(\"./data/train.csv\")"
   ],
   "metadata": {
    "collapsed": false,
    "ExecuteTime": {
     "end_time": "2024-12-10T04:31:22.697133Z",
     "start_time": "2024-12-10T04:31:22.679297Z"
    }
   },
   "id": "8fa43899ef88a908"
  },
  {
   "cell_type": "code",
   "execution_count": 4,
   "outputs": [
    {
     "data": {
      "text/plain": "'If she had only come to me and said she desired her freedom. If they had only both come together and faced me, saying that though it meant giving up all they had, they wanted only each other! I would have been generous. I would have been indulgent. But they did not. They had not the courage. They were afraid of me. And they hated me.\" [SNIPPET] Daddy was always shushing her.... But who was this big man in his dusty drab coveralls and dropped dust mask dangling upon his chest? \"Don\\'t you know me, Dear? It\\'s Buhl, your husband.\" Buhl was fifteen and only a couple of inches taller than Ruth. Of course he had sandy hair like this man. But this man was old enough to be Buhl\\'s father. This was crazy—like one of the dreams that always made her unhappy. So?'"
     },
     "execution_count": 4,
     "metadata": {},
     "output_type": "execute_result"
    }
   ],
   "source": [
    "train[\"TEXT\"][1]"
   ],
   "metadata": {
    "collapsed": false,
    "ExecuteTime": {
     "end_time": "2024-12-10T04:31:23.479173Z",
     "start_time": "2024-12-10T04:31:23.459852Z"
    }
   },
   "id": "48c8432344b54b12"
  },
  {
   "cell_type": "markdown",
   "source": [
    "The text form the provided training set is quite \"clean,\" so similarly pre-processing \n",
    "the newly acquired data is important as it would improve tokenization and training.\n",
    "\n",
    "### Assembling a pre-processing function  "
   ],
   "metadata": {
    "collapsed": false
   },
   "id": "38c2779abb3482a9"
  },
  {
   "cell_type": "code",
   "execution_count": 5,
   "outputs": [],
   "source": [
    "def preprocess_text(\n",
    "        text\n",
    "):\n",
    "    \"\"\"\n",
    "    Iteratively assembled with the aid of GPT-4o and using a test string with unwanted \n",
    "    string characters that may appear in the text such as links, excessive\n",
    "    punctuation, emojis, et cetera.\n",
    "    \n",
    "    Prompt used: \"Could you write a regex-based pre-processing function that filters \n",
    "    out {insert type of unwanted feature}?\" For corrections, \"I provided the function \n",
    "    this string \n",
    "    \n",
    "    \n",
    "    \n",
    "    :param text: sentence as a string \n",
    "    :return: pre-preprocessed string \n",
    "    \"\"\"\n",
    "    # removing HTML or markup tags\n",
    "    text = re.sub(r'<[^>]+>', '', text)  \n",
    "\n",
    "    # removing HTML artifacts\n",
    "    text = html.unescape(text) \n",
    "\n",
    "    # replacing underscores with spaces\n",
    "    text = text.replace('_', ' ') \n",
    "\n",
    "    # removing URLs\n",
    "    # text = re.sub(r'\\[.*?\\]\\(.*?\\)|http[s]?://\\S+|www\\.\\S+', '', text)\n",
    "    text = re.sub(\n",
    "        r'\\[.*?\\]\\(.*?\\)|http[s]?://\\S+|www\\.\\S+|\\b[a-zA-Z0-9.-]+\\.[a-zA-Z]{2,}\\b\\S*', \n",
    "        ' ', \n",
    "        text\n",
    "    )\n",
    "    \n",
    "    # replacing >2 repetitions of \"-\" with blank space\n",
    "    text = re.sub(r'(-){3,}', ' ', text)\n",
    "\n",
    "    # removing non-linguistic characters\n",
    "    text = re.sub(r'[^\\w\\s.,!?\\'\\\";:\\-—\\[\\]()&<>/]', '', text)  \n",
    "    # allowing \"(, ), &, <, >, /\" \n",
    "\n",
    "    # removing low-frequency or rare characters (non-ASCII)\n",
    "    text = re.sub(r'[^\\x00-\\x7F]+', '', text)\n",
    "\n",
    "    # normalizing punctuation\n",
    "    text = re.sub(r'([!?.,])\\1+', r'\\1', text)\n",
    "\n",
    "    # removing redundant whitespace\n",
    "    text = re.sub(r'\\s+', ' ', text).strip()\n",
    "    \n",
    "    return text"
   ],
   "metadata": {
    "collapsed": false,
    "ExecuteTime": {
     "end_time": "2024-12-10T04:31:24.457355Z",
     "start_time": "2024-12-10T04:31:24.449732Z"
    }
   },
   "id": "9c4e07756f61fba6"
  },
  {
   "cell_type": "markdown",
   "source": [
    "#### loading newly compiled training set \n",
    "(See `compiling_more_data.ipynb` for all the details.)"
   ],
   "metadata": {
    "collapsed": false
   },
   "id": "a5ed4937405ba036"
  },
  {
   "cell_type": "code",
   "execution_count": 6,
   "outputs": [],
   "source": [
    "new_text_data = pl.read_csv(\"./data/refined/mega_txt_list.csv\")"
   ],
   "metadata": {
    "collapsed": false,
    "ExecuteTime": {
     "end_time": "2024-12-10T04:31:25.464625Z",
     "start_time": "2024-12-10T04:31:25.191166Z"
    }
   },
   "id": "4fece2e35915106b"
  },
  {
   "cell_type": "code",
   "execution_count": 7,
   "outputs": [
    {
     "data": {
      "text/plain": "'Hello. I don\\'t really know how to start this. I guess I\\'ll tell you how I met my ex.\\n\\nRoughly 2 years ago, I was a patient in a psychiatric hospital. As a side note, I\\'ve struggled with depression for most of my life, and have had alcohol dependency issues for many many years. While I was in the hospital, I met this girl. We talked a few times, and she told me that she was being treated for depression also, though she didn\\'t seem very depressed at first. She told me stories about her \"previous life\" as a med student, and how she failed out of med school. I found myself drawn to her charms. Not much later, she left the facility because the treatment wasn\\'t working for her. I gave her my number, and she texted me that same day. For 2 weeks, we would text all day, talking about everything; mostly how bored we were, she with her life at her apartment all alone, and I with the therapies. We realized that we really liked each other and went out on a date. Then another, and another. I was so happy to have found someone who understood the things that I had been going through. We were a couple before we even knew it.\\n\\nThings were still difficult for both of us, but they were near perfect when it came to our relationship. I got discharged from the hospital and started focusing on healing myself before looking for a job. She was supposedly doing the same thing. She came over often, to the point where she would need to ask her mom to look after her cat while she was with me. She met my son. Things started getting more and more clear to me though. She slept a lot. And I mean A LOT, up to 18 hours a day. She was bored all the time. Thinking about finding a job gave her anxiety. There were days when she\\'d lay in bed all day, get up to do something, and then get an anxiety attack and need to get back in bed. I won\\'t say that it wasn\\'t somewhat tough on me too to see her like that, but I always hoped for it to get better. She\\'d have good days where she would meal prep for an entire week for the both of us, or make 3 paintings, or talk about going back to school, but it was the minority of her days. I loved her though, and despite her depression she was sweet and caring and funny, and she got along great with my son.\\n\\nAfter a year or so, I decided that I needed to start looking for a job. I found it so quickly that I was kind of stunned by it, but happy, of course. She was really happy for me too. I enjoyed my job at first, but found it pretty stressful, even from the beginning. Months passed, and the stress started building up. I started drinking again. Small amounts, at first. I tried to hide it from my girlfriend, but she caught on pretty quickly. She tried helping me. I wouldn\\'t let her. The drinking got worse. I\\'d come home from the bar late at night to find her waiting up for me, and we\\'d argue, which I usually had forgotten the next morning because of how drunk I was. She told me that I shouted at her, insulted her, made her cry. I\\'d be so ashamed, ask her to forgive me, to please please please give me another chance, promised that I would stop drinking. And I would. For a while. Then it would all repeat itself again.\\n\\nOne night I came home late again and we did the same old routine. The next morning, I found her in the garage with her bags packed. Said I had said all kinds of nasty things to her, as I had so many times before. But this time was different. She told me that I had said I didn\\'t give a fuck about her. That I wanted her to leave. And when she started sobbing, I shouted at her to sob less loudly because I couldn\\'t hear my music. I couldn\\'t believe it, I just couldn\\'t. At first I thought she was bluffing about leaving, but when she started silently crying I knew I had fucked up. I told her, of course I don\\'t want you to leave. And then I begged her to stay. Her mom eventually arrived and took her away.\\n\\nI tried calling her so many times, on her cell and even her parents\\' landline. I got her mom on the phone once, and she confirmed that she was there, but she didn\\'t want to talk to me. \\n\\nOne week later, I got a call from her sister. She hanged herself. She apparently left a note, saying how lonely she was, and how I had been her only friend. How terrible it was to hear from her only friend that he didn\\'t care. How it had been the last straw.\\n\\nI feel sick even writing this. I killed her. I killed the woman I loved. I\\'ve been sober for 5 months now, but it\\'s not enough. It\\'s never going to be enough. I feel so guilty. I miss her so much. Lately I\\'ve been feeling suicidal again myself. All I want is to be with her again. If I could only tell her how sorry I am. But I can\\'t.\\n\\nThanks for reading to the end.'"
     },
     "execution_count": 7,
     "metadata": {},
     "output_type": "execute_result"
    }
   ],
   "source": [
    "new_text_data[\"text\"][0]"
   ],
   "metadata": {
    "collapsed": false,
    "ExecuteTime": {
     "end_time": "2024-12-10T04:31:25.483600Z",
     "start_time": "2024-12-10T04:31:25.465345Z"
    }
   },
   "id": "9d1b2223343248e2"
  },
  {
   "cell_type": "markdown",
   "source": [
    "#### Spot checking text before and after pre-processing"
   ],
   "metadata": {
    "collapsed": false
   },
   "id": "dd84ec25c11fab59"
  },
  {
   "cell_type": "code",
   "execution_count": 8,
   "outputs": [
    {
     "name": "stdout",
     "output_type": "stream",
     "text": [
      "Original Index: 90376\n",
      "“Like a fool, I went round to him just for a minute, on the way to see\n",
      "Mitya, for he is ill, too, my Pole,” Grushenka began again with nervous\n",
      "haste. “I was laughing, telling Mitya about it. ‘Fancy,’ I said, ‘my\n",
      "Pole had the happy thought to sing his old songs to me to the guitar.\n",
      "He thought I would be touched and marry him!’ Mitya leapt up\n",
      "swearing.... So, there, I’ll send them the pies! Fenya, is it that\n",
      "little girl they’ve sent? Here, give her three roubles and pack a dozen\n",
      "pies up in a paper and tell her to take them. And you, Alyosha, be sure\n",
      "to tell Mitya that I did send them the pies.”\n",
      "\n",
      "Processed Index: 90376\n",
      "Like a fool, I went round to him just for a minute, on the way to see Mitya, for he is ill, too, my Pole, Grushenka began again with nervous haste. I was laughing, telling Mitya about it. Fancy, I said, my Pole had the happy thought to sing his old songs to me to the guitar. He thought I would be touched and marry him! Mitya leapt up swearing. So, there, Ill send them the pies! Fenya, is it that little girl theyve sent? Here, give her three roubles and pack a dozen pies up in a paper and tell her to take them. And you, Alyosha, be sure to tell Mitya that I did send them the pies.\n",
      "\n",
      "\n",
      "Original Index: 43588\n",
      "Here's the conclusion to the Alice series and it really does contain everything readers ever wondered about Alice's future. \n",
      " I read this book in one sitting it was so fantastic! The pacing was a little strange at points because Alice ages from 19-60 in the span of this one book and readers of this series are so used to the 4 month span of previous novels. That being said, the author gave readers memorable moments at each key point in Alice's future. \n",
      " I liked that the author included health issues for multiple characters; it gives readers something to grow with now that the series is done. I also liked the afterword in which the author reflects on the series and reveals that she plotted out the final book years ago in case something happened to her before she could finish writing the series. \n",
      " Also great were the flashbacks to moments throughout the series; it felt like revisiting my own memories though I imagine they belong to many, many readers too. \n",
      " Highly recommended series/finale for teen girls grades 9 and up.\n",
      "\n",
      "Processed Index: 43588\n",
      "Here's the conclusion to the Alice series and it really does contain everything readers ever wondered about Alice's future. I read this book in one sitting it was so fantastic! The pacing was a little strange at points because Alice ages from 19-60 in the span of this one book and readers of this series are so used to the 4 month span of previous novels. That being said, the author gave readers memorable moments at each key point in Alice's future. I liked that the author included health issues for multiple characters; it gives readers something to grow with now that the series is done. I also liked the afterword in which the author reflects on the series and reveals that she plotted out the final book years ago in case something happened to her before she could finish writing the series. Also great were the flashbacks to moments throughout the series; it felt like revisiting my own memories though I imagine they belong to many, many readers too. Highly recommended series/finale for teen girls grades 9 and up.\n",
      "\n",
      "\n",
      "Original Index: 49811\n",
      "There are times Alexander has problems stating how he truly feels and other times not so much, \"like hell, I don't,\" he growled. \"You have me by the balls, Clara. All I can think about is being inside of you.\" Both characters have issues but when they're together it's like heaven for them, they're playful and at ease, \"I swatted his a** as I sashayed by. \"I'll rearrange the schedule if you keep that up,\" he warned me.\" I'm not sure if I'm right with this but I think at times Clara feels insecure about her relationship with Alex at times, and Alex is always convincing her otherwise, \"sex with you could never be average.\" The thought was ludicrous. \"It's not a coincidence that I've been perpetually hard since we met.\" I really loved Alex's naughtiness, \"I love watching you suck my c***,\" he growled. \"I love knowing that you can't control yourself. There's a hundred people in our house and you need my c*** in your mouth.\" The ending wasn't a cliffhanger but you could tell their story wasn't done.\n",
      "\n",
      "Processed Index: 49811\n",
      "There are times Alexander has problems stating how he truly feels and other times not so much, \"like hell, I don't,\" he growled. \"You have me by the balls, Clara. All I can think about is being inside of you.\" Both characters have issues but when they're together it's like heaven for them, they're playful and at ease, \"I swatted his a as I sashayed by. \"I'll rearrange the schedule if you keep that up,\" he warned me.\" I'm not sure if I'm right with this but I think at times Clara feels insecure about her relationship with Alex at times, and Alex is always convincing her otherwise, \"sex with you could never be average.\" The thought was ludicrous. \"It's not a coincidence that I've been perpetually hard since we met.\" I really loved Alex's naughtiness, \"I love watching you suck my c,\" he growled. \"I love knowing that you can't control yourself. There's a hundred people in our house and you need my c in your mouth.\" The ending wasn't a cliffhanger but you could tell their story wasn't done.\n",
      "\n",
      "\n",
      "Original Index: 15459\n",
      "No less disquieting than the first book, this second volume picks up where the last one ended: right after Merq shot the Premiere of Singapore, leader of the Opposition. As a consequence, the Borders War flares up again, those who fight for individual freedom have new hope, and Merq is now the \"face of the Revolution\", suddenly well-known and officially reports to the president. Armise has become \"the traitor\", since he saved Merq's life, but is quite happy to be with Merq. The real differences between these two men is at the center of this book: what they know, how they react, and how they figure out what's next becomes far more important than whether or not they have a relationship and what they may want out of it. \n",
      " Merq is still a soldier, but the sudden absence of a clear mission in the aftermath of his successfully assassinating the leader of the Opposition is hard on him. He knows following orders is easy, and he has no problem with any of them. But he discovers that it matters a great deal to him who gives them to him. Blind obedience is no longer an option. Merq now has a loyalty he never had to deal with before: Armise. He doesn't admit it, but it affects his actions. The fact that Armise openly admits he wants to stay with Merq only makes it more difficult for Merq to deny that he actually does have feelings for the man. His \"solution\" is to word it slightly differently, making their relationship about trust. Which is as true as anything else, I guess, since the political maneuvering only intensifies, and the question of how to win this war is as dependent on military power as it is on Merq and Armise's new mission: kill all members of the Opposition council. \n",
      " Armise remains as interesting a conundrum as he was in the first book. And since Merq tells the story, I have no idea what goes on in Armise's head. Interestingly, his external loyalty, for the time being, is clearly with Merq. Armise has switched sides in the war, and supports what Merq does, working with him to fulfill their assassination mission. But other information about his past emerges , and it makes it much less clear who he really is. Genetic modification will mess with anyone's self-image, as well as, potentially, with their fundamental loyalties. I had no doubts that he will do anything to protect Merq, but as for the bigger picture and how he fits in? That remains to be seen. \n",
      " As in the first book, loyalties are fierce, and the battle lines clearly drawn. Thanks to some additional information about some of the five remaining powers on Earth in this version of the 26th century, it became a little clearer to me whose morals were closer to something I could support, and whose were not. However, since all sides have been involved in 300 years of war, I still have trouble siding with any one of them. I think this is fascinating, and puts me right into the same spot as Merq: the instinctive tendency is to side with the party he is fighting for, the Revolution, but there are too many questions about their methods for me to be completely certain I want them to win. So, I ended up with Armise: I am siding wit Merq, and can't wait to see what else he learns as he begins to question the stories he has always been told by the political leaders of \"his side\". \n",
      " If you don't like books about war, extreme violence, and torture, stay away from this one. If you're curious to find out what might happen to humanity in a future where fighting for dominance with weapons has become a reality again, this is an increasingly fascinating look at what might happen. If you're wondering about the power of propaganda and how someone who grew up believing what he was told might begin to question the truth of it all, this is the right series for you. This second story is moving, brutally honest, and very powerful. I suspect it will grab your attention and not let go once you start reading - it certainly held me in its clutches from beginning to end! \n",
      " NOTE: This book was provided by Total-E-Bound Publishing for the purpose of a review on Rainbow Book Reviews.\n",
      "\n",
      "Processed Index: 15459\n",
      "No less disquieting than the first book, this second volume picks up where the last one ended: right after Merq shot the Premiere of Singapore, leader of the Opposition. As a consequence, the Borders War flares up again, those who fight for individual freedom have new hope, and Merq is now the \"face of the Revolution\", suddenly well-known and officially reports to the president. Armise has become \"the traitor\", since he saved Merq's life, but is quite happy to be with Merq. The real differences between these two men is at the center of this book: what they know, how they react, and how they figure out what's next becomes far more important than whether or not they have a relationship and what they may want out of it. Merq is still a soldier, but the sudden absence of a clear mission in the aftermath of his successfully assassinating the leader of the Opposition is hard on him. He knows following orders is easy, and he has no problem with any of them. But he discovers that it matters a great deal to him who gives them to him. Blind obedience is no longer an option. Merq now has a loyalty he never had to deal with before: Armise. He doesn't admit it, but it affects his actions. The fact that Armise openly admits he wants to stay with Merq only makes it more difficult for Merq to deny that he actually does have feelings for the man. His \"solution\" is to word it slightly differently, making their relationship about trust. Which is as true as anything else, I guess, since the political maneuvering only intensifies, and the question of how to win this war is as dependent on military power as it is on Merq and Armise's new mission: kill all members of the Opposition council. Armise remains as interesting a conundrum as he was in the first book. And since Merq tells the story, I have no idea what goes on in Armise's head. Interestingly, his external loyalty, for the time being, is clearly with Merq. Armise has switched sides in the war, and supports what Merq does, working with him to fulfill their assassination mission. But other information about his past emerges , and it makes it much less clear who he really is. Genetic modification will mess with anyone's self-image, as well as, potentially, with their fundamental loyalties. I had no doubts that he will do anything to protect Merq, but as for the bigger picture and how he fits in? That remains to be seen. As in the first book, loyalties are fierce, and the battle lines clearly drawn. Thanks to some additional information about some of the five remaining powers on Earth in this version of the 26th century, it became a little clearer to me whose morals were closer to something I could support, and whose were not. However, since all sides have been involved in 300 years of war, I still have trouble siding with any one of them. I think this is fascinating, and puts me right into the same spot as Merq: the instinctive tendency is to side with the party he is fighting for, the Revolution, but there are too many questions about their methods for me to be completely certain I want them to win. So, I ended up with Armise: I am siding wit Merq, and can't wait to see what else he learns as he begins to question the stories he has always been told by the political leaders of \"his side\". If you don't like books about war, extreme violence, and torture, stay away from this one. If you're curious to find out what might happen to humanity in a future where fighting for dominance with weapons has become a reality again, this is an increasingly fascinating look at what might happen. If you're wondering about the power of propaganda and how someone who grew up believing what he was told might begin to question the truth of it all, this is the right series for you. This second story is moving, brutally honest, and very powerful. I suspect it will grab your attention and not let go once you start reading - it certainly held me in its clutches from beginning to end! NOTE: This book was provided by Total-E-Bound Publishing for the purpose of a review on Rainbow Book Reviews.\n",
      "\n",
      "\n",
      "Original Index: 55605\n",
      "For the first few times Margarita and Acan met i knew it was going to be a wild ride, \"you showed up. I didn't expect...\" Her voice faded as she realized he was down a pair of pants (and underpants) and up one man-- involuntarily, of course. \"I didn't expect to see your p****.\" She swallowed and made a disgusted face. \"Erect.\" I really loved it when Acan was thought, it was unconventional but thoughtful, \"Margarita, I cannot send a complete wimp to watch over your most prized possession. What sort of mate would I be?\" I enjoyed this book and I'm hoping Zac is up next.\n",
      "\n",
      "Processed Index: 55605\n",
      "For the first few times Margarita and Acan met i knew it was going to be a wild ride, \"you showed up. I didn't expect.\" Her voice faded as she realized he was down a pair of pants (and underpants) and up one man-- involuntarily, of course. \"I didn't expect to see your p.\" She swallowed and made a disgusted face. \"Erect.\" I really loved it when Acan was thought, it was unconventional but thoughtful, \"Margarita, I cannot send a complete wimp to watch over your most prized possession. What sort of mate would I be?\" I enjoyed this book and I'm hoping Zac is up next.\n"
     ]
    }
   ],
   "source": [
    "for _ in range(5):\n",
    "    random_index = random.randint(0, len(new_text_data))\n",
    "    \n",
    "    print(\"Original\", \"Index:\", random_index)\n",
    "    print(new_text_data[\"text\"][random_index])\n",
    "    \n",
    "    print()\n",
    "    \n",
    "    print(\"Processed\", \"Index:\", random_index)\n",
    "    print(preprocess_text(new_text_data[\"text\"][random_index]))\n",
    "    \n",
    "    print()\n",
    "    print()"
   ],
   "metadata": {
    "collapsed": false,
    "ExecuteTime": {
     "end_time": "2024-12-10T04:31:26.711137Z",
     "start_time": "2024-12-10T04:31:26.708028Z"
    }
   },
   "id": "e642d4acc7a1746a"
  },
  {
   "cell_type": "code",
   "execution_count": 9,
   "outputs": [
    {
     "data": {
      "text/plain": "'Now this is the way to wrap up a series. We got time with each couple, saw their love and how good their lives have been, got to see them as a group and separated out, the men and women. It was nice to see the women stay strong when the guys were sent on a mission. \\n The mission was interesting, from who they were going after, from how they found their quarry, to what happened afterward. \\n The ending was great, I loved how we got to see each couple express their love and how the guys honored a new person they claimed into their group.'"
     },
     "execution_count": 9,
     "metadata": {},
     "output_type": "execute_result"
    }
   ],
   "source": [
    "new_text_data[\"text\"][50720]"
   ],
   "metadata": {
    "collapsed": false,
    "ExecuteTime": {
     "end_time": "2024-12-10T04:31:27.436847Z",
     "start_time": "2024-12-10T04:31:27.424519Z"
    }
   },
   "id": "d7d22c2b248480eb"
  },
  {
   "cell_type": "markdown",
   "source": [
    "There are some sequences with gibberish text. It seems that all this gibberish words \n",
    "have no vowel in between, so for all text sequences, if no-vowel words appear one after\n",
    " the other _n_ number of times, I will remove those rows from the dataframe.\n",
    " \n",
    "### Removing gibberish from the texts"
   ],
   "metadata": {
    "collapsed": false
   },
   "id": "1b52cf07b1f89814"
  },
  {
   "cell_type": "code",
   "execution_count": 10,
   "outputs": [],
   "source": [
    "def remove_gibberish(text, threshold):\n",
    "    vowel_set = set('aeiouAEIOU')\n",
    "    words = text.split()\n",
    "    \n",
    "    # checking for vowels\n",
    "    vowel_presence = [any(char in vowel_set for char in word) for word in words]\n",
    "    \n",
    "    # count if there are no-vowel words that appear sequentially\n",
    "    count = 0\n",
    "    for has_vowel in vowel_presence:\n",
    "        if not has_vowel:\n",
    "            count += 1\n",
    "            if count >= threshold:\n",
    "                return True\n",
    "        else:\n",
    "            count = 0\n",
    "    return False"
   ],
   "metadata": {
    "collapsed": false,
    "ExecuteTime": {
     "end_time": "2024-12-10T04:31:28.543499Z",
     "start_time": "2024-12-10T04:31:28.530150Z"
    }
   },
   "id": "bbc799bd89913039"
  },
  {
   "cell_type": "code",
   "execution_count": 11,
   "outputs": [
    {
     "name": "stderr",
     "output_type": "stream",
     "text": [
      "/var/folders/25/8pnrgwt571b68wq6t25hql4w0000gn/T/ipykernel_76963/3974915693.py:3: MapWithoutReturnDtypeWarning: Calling `map_elements` without specifying `return_dtype` can lead to unpredictable results. Specify `return_dtype` to silence this warning.\n",
      "  ~new_text_data[\"text\"].map_elements(lambda x: remove_gibberish(x, threshold=5))\n"
     ]
    }
   ],
   "source": [
    "# cleaning the dataset\n",
    "new_text_data = new_text_data.filter(\n",
    "    ~new_text_data[\"text\"].map_elements(lambda x: remove_gibberish(x, threshold=5))\n",
    ")"
   ],
   "metadata": {
    "collapsed": false,
    "ExecuteTime": {
     "end_time": "2024-12-10T04:31:34.745894Z",
     "start_time": "2024-12-10T04:31:28.733879Z"
    }
   },
   "id": "966c4102b8f98a84"
  },
  {
   "cell_type": "code",
   "execution_count": 12,
   "outputs": [
    {
     "name": "stdout",
     "output_type": "stream",
     "text": [
      "Original Index: 78029\n",
      "As to Squire Western, he happened at this time to be overtaken by an\n",
      "enemy, which very frequently pursues, and seldom fails to overtake,\n",
      "most of the country gentlemen in this kingdom. He was, literally\n",
      "speaking, drunk; which circumstance, together with his natural\n",
      "impetuosity, could produce no other effect than his running\n",
      "immediately up to his daughter, upon whom he fell foul with his tongue\n",
      "in the most inveterate manner; nay, he had probably committed violence\n",
      "with his hands, had not the parson interposed, saying, “For heaven's\n",
      "sake, sir, animadvert that you are in the house of a great lady. Let\n",
      "me beg you to mitigate your wrath; it should minister a fulness of\n",
      "satisfaction that you have found your daughter; for as to revenge, it\n",
      "belongeth not unto us. I discern great contrition in the countenance\n",
      "of the young lady. I stand assured, if you will forgive her, she will\n",
      "repent her of all past offences, and return unto her duty.”\n",
      "\n",
      "Processed Index: 78029\n",
      "As to Squire Western, he happened at this time to be overtaken by an enemy, which very frequently pursues, and seldom fails to overtake, most of the country gentlemen in this kingdom. He was, literally speaking, drunk; which circumstance, together with his natural impetuosity, could produce no other effect than his running immediately up to his daughter, upon whom he fell foul with his tongue in the most inveterate manner; nay, he had probably committed violence with his hands, had not the parson interposed, saying, For heaven's sake, sir, animadvert that you are in the house of a great lady. Let me beg you to mitigate your wrath; it should minister a fulness of satisfaction that you have found your daughter; for as to revenge, it belongeth not unto us. I discern great contrition in the countenance of the young lady. I stand assured, if you will forgive her, she will repent her of all past offences, and return unto her duty.\n",
      "\n",
      "\n",
      "Original Index: 54085\n",
      "Re-released on 28 June 2013, at Diversity Novels! \n",
      " The content is the same as before, but if you've never read Mihael's story, this could be your chance to catch up. This is the sixth book in my Celestial Justice series. While the first mini-trilogy was about various types of guardian angels, these next three books are about angels with specific 'jobs' and will explore the next level of the celestial hierarchy. \n",
      " This third book is about Mihael, the angel of loyalty who has to choose between doing his job supporting the greater good and making a life with his newfound soul mate? \n",
      " Mihael knows right from wrong better than most. He is shocked when he is put on trial for upholding loyalty over compassion. A mysterious assignment on Earth is supposed to help him understand... \n",
      " Francis Portillo is a teacher struggling to support himself and his sister's baby twins. Helping others is what he does, be it a bullied student or the somewhat confused stranger who signs up for his Spanish class. \n",
      " Can Francis help Mihael learn the meaning of affection and compassion before it is too late? \n",
      " The book is also available at All Romance and Rainbow EBooks, and will come to Amazon very soon.\n",
      "\n",
      "Processed Index: 54085\n",
      "Re-released on 28 June 2013, at Diversity Novels! The content is the same as before, but if you've never read Mihael's story, this could be your chance to catch up. This is the sixth book in my Celestial Justice series. While the first mini-trilogy was about various types of guardian angels, these next three books are about angels with specific 'jobs' and will explore the next level of the celestial hierarchy. This third book is about Mihael, the angel of loyalty who has to choose between doing his job supporting the greater good and making a life with his newfound soul mate? Mihael knows right from wrong better than most. He is shocked when he is put on trial for upholding loyalty over compassion. A mysterious assignment on Earth is supposed to help him understand. Francis Portillo is a teacher struggling to support himself and his sister's baby twins. Helping others is what he does, be it a bullied student or the somewhat confused stranger who signs up for his Spanish class. Can Francis help Mihael learn the meaning of affection and compassion before it is too late? The book is also available at All Romance and Rainbow EBooks, and will come to Amazon very soon.\n",
      "\n",
      "\n",
      "Original Index: 55921\n",
      "I found this book much better than the previous one. Andrew this time around is dealing with the fallout of what his brother did to him. He used to be famous for writing thrillers, now he is infamous for being the serial killers who worked out things in his books. Quietly living in Canada in the middle of no where, he is happy to be a cook during the tourist season and continue writing in the winter, where he finally puts to words what happened to him that fateful summer with his brother that forever changed him. He has no close friends as he can not be himself, but does check in on those he left behind to make sure they are safe. During one of these check in's he realizes that a ghost that should have been laid to rest is not and those that he cares about are in danger again. He heads back home to save them. As he gathers information he stumbles across someone who recognizes him and can not let them go, ratcheting up the tension. With a hostage in his custody he goes after the bad guy, in the process winning them over to help even the odds. However the bad guy has allies of his own and it comes down to an us versus them situation and how much do you really want to live. \n",
      " We are left hanging with questions that need to be answered. I hope there is another book to find them out.\n",
      "\n",
      "Processed Index: 55921\n",
      "I found this book much better than the previous one. Andrew this time around is dealing with the fallout of what his brother did to him. He used to be famous for writing thrillers, now he is infamous for being the serial killers who worked out things in his books. Quietly living in Canada in the middle of no where, he is happy to be a cook during the tourist season and continue writing in the winter, where he finally puts to words what happened to him that fateful summer with his brother that forever changed him. He has no close friends as he can not be himself, but does check in on those he left behind to make sure they are safe. During one of these check in's he realizes that a ghost that should have been laid to rest is not and those that he cares about are in danger again. He heads back home to save them. As he gathers information he stumbles across someone who recognizes him and can not let them go, ratcheting up the tension. With a hostage in his custody he goes after the bad guy, in the process winning them over to help even the odds. However the bad guy has allies of his own and it comes down to an us versus them situation and how much do you really want to live. We are left hanging with questions that need to be answered. I hope there is another book to find them out.\n",
      "\n",
      "\n",
      "Original Index: 14125\n",
      "Telling the story of George Washington Carver from the point of view of a sapling that grows into a tree while the boy himself grows into a botanist is a cool idea, given Carver's connection with Nature. The device doesn't work well all the way through the story, though. Still, this title is a simple introduction to an influential man who changed the lives of many of the rural poor at his time. The acrylic illustrations make use of every shade of green imaginable. Back matter includes questions and answers about issues raised in the book. I loved the peanut and sweet potato plant illustrations inside the cover and would have liked to have seen even more of that sort of illustration.\n",
      "\n",
      "Processed Index: 14125\n",
      "Telling the story of George Washington Carver from the point of view of a sapling that grows into a tree while the boy himself grows into a botanist is a cool idea, given Carver's connection with Nature. The device doesn't work well all the way through the story, though. Still, this title is a simple introduction to an influential man who changed the lives of many of the rural poor at his time. The acrylic illustrations make use of every shade of green imaginable. Back matter includes questions and answers about issues raised in the book. I loved the peanut and sweet potato plant illustrations inside the cover and would have liked to have seen even more of that sort of illustration.\n",
      "\n",
      "\n",
      "Original Index: 22220\n",
      "I liked that in this book that Charlie didn't forget about Allison, that she lingered in his thoughts. I liked Allison and wished that her story would have been different. I did like that Charlie kept in touch with Allison's son, but worry that that relationship won't end any better than Charlie's did with Allison, mostly because Allison's son has too much of her in him. \n",
      " I did like that Charlie didn't let the mystery go. Charlie is a good guy and did what he needed to do to find the bad guy, even if it meant he had to look close to home.\n",
      "\n",
      "Processed Index: 22220\n",
      "I liked that in this book that Charlie didn't forget about Allison, that she lingered in his thoughts. I liked Allison and wished that her story would have been different. I did like that Charlie kept in touch with Allison's son, but worry that that relationship won't end any better than Charlie's did with Allison, mostly because Allison's son has too much of her in him. I did like that Charlie didn't let the mystery go. Charlie is a good guy and did what he needed to do to find the bad guy, even if it meant he had to look close to home.\n"
     ]
    }
   ],
   "source": [
    "# checking again\n",
    "\n",
    "for _ in range(5):\n",
    "    random_index = random.randint(0, len(new_text_data))\n",
    "    \n",
    "    print(\"Original\", \"Index:\", random_index)\n",
    "    print(new_text_data[\"text\"][random_index])\n",
    "    \n",
    "    print()\n",
    "    \n",
    "    print(\"Processed\", \"Index:\", random_index)\n",
    "    print(preprocess_text(new_text_data[\"text\"][random_index]))\n",
    "    \n",
    "    print()\n",
    "    print()"
   ],
   "metadata": {
    "collapsed": false,
    "ExecuteTime": {
     "end_time": "2024-12-10T04:31:34.751782Z",
     "start_time": "2024-12-10T04:31:34.747441Z"
    }
   },
   "id": "74239305ca3a5920"
  },
  {
   "cell_type": "markdown",
   "source": [
    "Sufficiently good!\n",
    "\n",
    "### Applying the pre-processing function"
   ],
   "metadata": {
    "collapsed": false
   },
   "id": "c2785a0da07e03e1"
  },
  {
   "cell_type": "code",
   "execution_count": 13,
   "outputs": [],
   "source": [
    "# preprocessing all the text\n",
    "preprocessed_text = list(map(preprocess_text, new_text_data[\"text\"].to_list()))\n",
    "preprocessed_text_length = [len(i) for i in preprocessed_text]\n",
    "preprocessed_text_source = new_text_data[\"source\"].to_list()"
   ],
   "metadata": {
    "collapsed": false,
    "ExecuteTime": {
     "end_time": "2024-12-10T04:31:44.567897Z",
     "start_time": "2024-12-10T04:31:34.832143Z"
    }
   },
   "id": "ee49c54fbd8ccd28"
  },
  {
   "cell_type": "code",
   "execution_count": 14,
   "outputs": [
    {
     "data": {
      "text/plain": "90539"
     },
     "execution_count": 14,
     "metadata": {},
     "output_type": "execute_result"
    }
   ],
   "source": [
    "len(preprocessed_text)"
   ],
   "metadata": {
    "collapsed": false,
    "ExecuteTime": {
     "end_time": "2024-12-10T04:31:44.571137Z",
     "start_time": "2024-12-10T04:31:44.568888Z"
    }
   },
   "id": "aa5c16a4d101cfc0"
  },
  {
   "cell_type": "code",
   "execution_count": 15,
   "outputs": [
    {
     "data": {
      "text/plain": "90307"
     },
     "execution_count": 15,
     "metadata": {},
     "output_type": "execute_result"
    }
   ],
   "source": [
    "# some sentences may have fallen below 300 characters, so removing those\n",
    "preprocessed_text_ll = list(\n",
    "    [source, sentence, length] for source, sentence, length in zip(\n",
    "        preprocessed_text_source, preprocessed_text, preprocessed_text_length\n",
    "    ) if length > 300\n",
    ")\n",
    "\n",
    "len(preprocessed_text_ll)"
   ],
   "metadata": {
    "collapsed": false,
    "ExecuteTime": {
     "end_time": "2024-12-10T04:31:44.610698Z",
     "start_time": "2024-12-10T04:31:44.599701Z"
    }
   },
   "id": "5764ecd571e33f1d"
  },
  {
   "cell_type": "code",
   "execution_count": 16,
   "outputs": [
    {
     "data": {
      "text/plain": "90306"
     },
     "execution_count": 16,
     "metadata": {},
     "output_type": "execute_result"
    }
   ],
   "source": [
    "# re-checking and removing non-English text\n",
    "preprocessed_text_ll = list(\n",
    "    [source, sentence, length] for source, sentence, length in preprocessed_text_ll\n",
    "    if detect(sentence) == \"en\"\n",
    ")\n",
    "\n",
    "len(preprocessed_text_ll)"
   ],
   "metadata": {
    "collapsed": false,
    "ExecuteTime": {
     "end_time": "2024-12-10T04:33:57.486084Z",
     "start_time": "2024-12-10T04:31:44.610105Z"
    }
   },
   "id": "974c8c9bcaf2bffa"
  },
  {
   "cell_type": "code",
   "execution_count": 17,
   "outputs": [
    {
     "data": {
      "text/plain": "'Thou first, great Ajax! on the unsanguined plain Laid Hyrtius, leader of the Mysian train. Phalces and Mermer, Nestors son oerthrew, Bold Merion, Morys and Hippotion slew. Strong Periphaetes and Prothoon bled, By Teucers arrows mingled with the dead, Pierced in the flank by Menelaus steel, Hi'"
     },
     "execution_count": 17,
     "metadata": {},
     "output_type": "execute_result"
    }
   ],
   "source": [
    "# checking what lazily halving the text looks like\n",
    "preprocessed_text_ll[65703][1][:len(preprocessed_text_ll[65703][1]) // 2]"
   ],
   "metadata": {
    "collapsed": false,
    "ExecuteTime": {
     "end_time": "2024-12-10T04:33:57.488235Z",
     "start_time": "2024-12-10T04:33:57.485935Z"
    }
   },
   "id": "ca04312c2e492a93"
  },
  {
   "cell_type": "markdown",
   "source": [
    "### Splitting the sentences into two halves\n",
    "\n",
    "In the loop below:\n",
    "1. The sentence is split if there is a \".\" around the middle length ($\\pm$50 characters)\n",
    "2. If no period is found in that range, then the sentence is split if there is space $\\pm$15 characters around the middle\n",
    "3. If there is no space between words in that range, the sentence is split around the middle"
   ],
   "metadata": {
    "collapsed": false
   },
   "id": "e5a33b503c817bd8"
  },
  {
   "cell_type": "code",
   "execution_count": 36,
   "outputs": [
    {
     "name": "stderr",
     "output_type": "stream",
     "text": [
      "100%|██████████| 90306/90306 [00:00<00:00, 93972.55it/s] \n"
     ]
    }
   ],
   "source": [
    "source_of_text = []\n",
    "half_splits = []\n",
    "label = []\n",
    "first_half_length = []\n",
    "second_half_length = []\n",
    "lazy_split_bool = []\n",
    "\n",
    "# this loop sweeps through a sentence and roughly splits them in half\n",
    "# (there is a smarter way to write this loop as a recursive function)\n",
    "for stuff in tqdm(preprocessed_text_ll):\n",
    "    source, text, _ = stuff\n",
    "\n",
    "    min_sweep = len(text) // 2 - 50\n",
    "    max_sweep = len(text) // 2 + 50\n",
    "    window = 1\n",
    "\n",
    "    sweep = min_sweep\n",
    "    \n",
    "    inside_inner_loop = False\n",
    "    while True:\n",
    "        if text[sweep:sweep + window] == \".\":\n",
    "            source_of_text.append(source)\n",
    "            \n",
    "            # saving the splits\n",
    "            half_splits.append([\n",
    "                text[:sweep + window],\n",
    "                text[sweep + window:],\n",
    "            ])\n",
    "            \n",
    "            # label = 1 indicates that the two halves are from the same author\n",
    "            label.append(1)\n",
    "            \n",
    "            first_half_length.append(len(text[:sweep + window]))\n",
    "            second_half_length.append(len(text[sweep + window:]))\n",
    "            lazy_split_bool.append(False)\n",
    "\n",
    "            break\n",
    "            \n",
    "        if sweep + window == max_sweep:\n",
    "            inside_inner_loop = True\n",
    "            \n",
    "            min_sweep = len(text) // 2 - 15 # 100\n",
    "            max_sweep = len(text) // 2 + 15 # 250\n",
    "            \n",
    "            sweep2 = min_sweep\n",
    "            \n",
    "            while True:\n",
    "                if text[sweep2:sweep2 + window] == \" \":\n",
    "                    # print(\"here\", sweep2 + window)\n",
    "                    source_of_text.append(source)\n",
    "                    \n",
    "                    half_splits.append([\n",
    "                        text[:sweep2 + window],\n",
    "                        text[sweep2 + window:],\n",
    "                    ])\n",
    "                            \n",
    "                    # label = 1 indicates that the two halves are from the same author\n",
    "                    label.append(1)\n",
    "                    \n",
    "                    first_half_length.append(len(text[:sweep2 + window]))\n",
    "                    second_half_length.append(len(text[sweep2 + window:]))\n",
    "                    lazy_split_bool.append(False)\n",
    "            \n",
    "                    break\n",
    "                \n",
    "                # print(sweep2 + window == max_sweep)\n",
    "                \n",
    "                # There may be some sentences aren't separated by periods\n",
    "                # in such cases, I lazily split the sentences in the middle\n",
    "                # I am storing which ones are lazily split, so I can remove them later if needed\n",
    "                if sweep2 + window == max_sweep:\n",
    "                    source_of_text.append(source)\n",
    "                    \n",
    "                    half_splits.append([\n",
    "                        text[:len(text) // 2],\n",
    "                        text[len(text) // 2:],\n",
    "                    ])\n",
    "                    \n",
    "                    # label = 1 indicates that the two halves are from the same author\n",
    "                    label.append(1)\n",
    "                    \n",
    "                    first_half_length.append(len(text[:len(text) // 2]))\n",
    "                    second_half_length.append(len(text[len(text) // 2:]))\n",
    "                    lazy_split_bool.append(True)\n",
    "                    \n",
    "                    break\n",
    "                \n",
    "                sweep2 += 1\n",
    "            \n",
    "        if inside_inner_loop:\n",
    "            break\n",
    "            \n",
    "        sweep += 1"
   ],
   "metadata": {
    "collapsed": false,
    "ExecuteTime": {
     "end_time": "2024-12-10T04:36:28.095143Z",
     "start_time": "2024-12-10T04:36:27.130661Z"
    }
   },
   "id": "add86aa10fe26d2f"
  },
  {
   "cell_type": "code",
   "execution_count": 37,
   "outputs": [
    {
     "data": {
      "text/plain": "0"
     },
     "execution_count": 37,
     "metadata": {},
     "output_type": "execute_result"
    }
   ],
   "source": [
    "len([i for i in lazy_split_bool if i is True])"
   ],
   "metadata": {
    "collapsed": false,
    "ExecuteTime": {
     "end_time": "2024-12-10T04:36:28.484275Z",
     "start_time": "2024-12-10T04:36:28.475269Z"
    }
   },
   "id": "c06b7e56b4944d99"
  },
  {
   "cell_type": "markdown",
   "source": [
    "Perfect, none of the sentences were lazily split!"
   ],
   "metadata": {
    "collapsed": false
   },
   "id": "44533c5dfacc9cdd"
  },
  {
   "cell_type": "code",
   "execution_count": 38,
   "outputs": [
    {
     "name": "stdout",
     "output_type": "stream",
     "text": [
      "1666 1174\n"
     ]
    }
   ],
   "source": [
    "# number of super short sentence halves \n",
    "# in the first and second halves, respectively\n",
    "print(\n",
    "    len([i for i in first_half_length if i < 200]),\n",
    "    len([i for i in second_half_length if i < 200]),\n",
    ")"
   ],
   "metadata": {
    "collapsed": false,
    "ExecuteTime": {
     "end_time": "2024-12-10T04:36:29.198080Z",
     "start_time": "2024-12-10T04:36:29.194931Z"
    }
   },
   "id": "758439706789c4b7"
  },
  {
   "cell_type": "code",
   "execution_count": 39,
   "outputs": [
    {
     "name": "stdout",
     "output_type": "stream",
     "text": [
      "Total number of super short sentence pairs: 2098\n"
     ]
    }
   ],
   "source": [
    "num_short_sentences = len([i for i, j in zip(\n",
    "        first_half_length, second_half_length\n",
    "    ) if i < 200 or j < 200])\n",
    "\n",
    "print(\n",
    "    \"Total number of super short sentence pairs:\",\n",
    "    num_short_sentences\n",
    ")"
   ],
   "metadata": {
    "collapsed": false,
    "ExecuteTime": {
     "end_time": "2024-12-10T04:36:29.744907Z",
     "start_time": "2024-12-10T04:36:29.736560Z"
    }
   },
   "id": "c341ac974912f10a"
  },
  {
   "cell_type": "markdown",
   "source": [
    "Super short sentences may not have enough context and writing flavor for the model to \n",
    "identify authorship, and there aren't that many of them, so I will remove them later."
   ],
   "metadata": {
    "collapsed": false
   },
   "id": "88c2c5e09f753804"
  },
  {
   "cell_type": "code",
   "execution_count": 40,
   "outputs": [
    {
     "data": {
      "text/plain": "12010"
     },
     "execution_count": 40,
     "metadata": {},
     "output_type": "execute_result"
    }
   ],
   "source": [
    "# number of sentences from reddit\n",
    "len([i for i in source_of_text if i[-4:] == \".csv\"])"
   ],
   "metadata": {
    "collapsed": false,
    "ExecuteTime": {
     "end_time": "2024-12-10T04:36:30.757084Z",
     "start_time": "2024-12-10T04:36:30.751722Z"
    }
   },
   "id": "25a2f2731c90fe76"
  },
  {
   "cell_type": "markdown",
   "source": [
    "I __may__ also remove all reddit data (~12,000 data points) as they tend to be noisy. \n",
    "\n",
    "There are some sentences with high quality signal within them, but it is not worth \n",
    "hunting and pecking for them."
   ],
   "metadata": {
    "collapsed": false
   },
   "id": "adb4792381bc9800"
  },
  {
   "cell_type": "code",
   "execution_count": 41,
   "outputs": [
    {
     "data": {
      "text/plain": "<Figure size 1200x800 with 1 Axes>",
      "image/png": "[encoded data removed]"
     },
     "metadata": {},
     "output_type": "display_data"
    }
   ],
   "source": [
    "# checking if the split sentence lengths are roughly equal\n",
    "plt.hist(\n",
    "    first_half_length, \n",
    "    bins=\"fd\",\n",
    "    alpha=0.5,\n",
    "    density=True,\n",
    "    label=\" First half of the sentence\"\n",
    ")\n",
    "\n",
    "plt.hist(\n",
    "    second_half_length, \n",
    "    bins=\"fd\",\n",
    "    alpha=0.5,\n",
    "    density=True,\n",
    "    label=\"Second half of the sentence\"\n",
    ")\n",
    "\n",
    "plt.xlabel(\"Sentence length\")\n",
    "plt.ylabel(\"Probability Density\")\n",
    "\n",
    "plt.legend(fontsize=18)\n",
    "# plt.show()\n",
    "\n",
    "# ADD spline adjustment later if time allows\n",
    "plt.savefig(\n",
    "    \"./plots/sentence_half_lengths.png\",\n",
    "    dpi=300,\n",
    "    bbox_inches=\"tight\"\n",
    ")"
   ],
   "metadata": {
    "collapsed": false,
    "ExecuteTime": {
     "end_time": "2024-12-10T04:36:32.294549Z",
     "start_time": "2024-12-10T04:36:31.629311Z"
    }
   },
   "id": "ae33e57a2b96d3d9"
  },
  {
   "cell_type": "code",
   "execution_count": 42,
   "outputs": [
    {
     "name": "stdout",
     "output_type": "stream",
     "text": [
      "shape: (90_306, 6)\n",
      "┌──────────────────┬─────────────────┬─────────────────┬───────┬─────────────────┬─────────────────┐\n",
      "│ source           ┆ first_half      ┆ second_half     ┆ label ┆ first_half_leng ┆ second_half_len │\n",
      "│ ---              ┆ ---             ┆ ---             ┆ ---   ┆ th              ┆ gth             │\n",
      "│ str              ┆ str             ┆ str             ┆ i64   ┆ ---             ┆ ---             │\n",
      "│                  ┆                 ┆                 ┆       ┆ i64             ┆ i64             │\n",
      "╞══════════════════╪═════════════════╪═════════════════╪═══════╪═════════════════╪═════════════════╡\n",
      "│ suicidewatch_dat ┆ Hello. I don't  ┆ I found it so   ┆ 1     ┆ 2308            ┆ 2371            │\n",
      "│ a.csv            ┆ really know     ┆ quickly that I  ┆       ┆                 ┆                 │\n",
      "│                  ┆ how…            ┆ …               ┆       ┆                 ┆                 │\n",
      "│ suicidewatch_dat ┆ I don't know    ┆ It just         ┆ 1     ┆ 1631            ┆ 1667            │\n",
      "│ a.csv            ┆ what to say or  ┆ reflected how   ┆       ┆                 ┆                 │\n",
      "│                  ┆ do…             ┆ after a…        ┆       ┆                 ┆                 │\n",
      "│ suicidewatch_dat ┆ . and was asked ┆ shift (heh --   ┆ 1     ┆ 208             ┆ 234             │\n",
      "│ a.csv            ┆ to please 'wat… ┆ suicide         ┆       ┆                 ┆                 │\n",
      "│                  ┆                 ┆ hotline;…       ┆       ┆                 ┆                 │\n",
      "│ suicidewatch_dat ┆ I saw it on     ┆ There is true   ┆ 1     ┆ 390             ┆ 484             │\n",
      "│ a.csv            ┆ twitter.        ┆ evil in this    ┆       ┆                 ┆                 │\n",
      "│                  ┆ Multiple …      ┆ wo…             ┆       ┆                 ┆                 │\n",
      "│ suicidewatch_dat ┆ If you say      ┆ I've been       ┆ 1     ┆ 355             ┆ 291             │\n",
      "│ a.csv            ┆ you're so       ┆ serious all     ┆       ┆                 ┆                 │\n",
      "│                  ┆ depressed…      ┆ along. …        ┆       ┆                 ┆                 │\n",
      "│ …                ┆ …               ┆ …               ┆ …     ┆ …               ┆ …               │\n",
      "│ Doctrina         ┆ Receiving bread ┆ They will       ┆ 1     ┆ 1281            ┆ 1294            │\n",
      "│ Christiana .txt  ┆ from us, they … ┆ marvel at us    ┆       ┆                 ┆                 │\n",
      "│                  ┆                 ┆ and wi…         ┆       ┆                 ┆                 │\n",
      "│ Doctrina         ┆ The most        ┆ her hands the   ┆ 1     ┆ 1191            ┆ 1218            │\n",
      "│ Christiana .txt  ┆ painful secrets ┆ mystery , shall ┆       ┆                 ┆                 │\n",
      "│                  ┆ of th…          ┆ …               ┆       ┆                 ┆                 │\n",
      "│ Doctrina         ┆ I know you      ┆ I tell you      ┆ 1     ┆ 1271            ┆ 1363            │\n",
      "│ Christiana .txt  ┆ would all like  ┆ that, the boy   ┆       ┆                 ┆                 │\n",
      "│                  ┆ it t…           ┆ was …           ┆       ┆                 ┆                 │\n",
      "│ Doctrina         ┆ And so, in      ┆ That was        ┆ 1     ┆ 1254            ┆ 1251            │\n",
      "│ Christiana .txt  ┆ order to train  ┆ Ilushas own     ┆       ┆                 ┆                 │\n",
      "│                  ┆ him …           ┆ account …       ┆       ┆                 ┆                 │\n",
      "│ Doctrina         ┆ That was my     ┆ But he suddenly ┆ 1     ┆ 988             ┆ 1076            │\n",
      "│ Christiana .txt  ┆ intention. But  ┆ met my eyes. …  ┆       ┆                 ┆                 │\n",
      "│                  ┆ wha…            ┆                 ┆       ┆                 ┆                 │\n",
      "└──────────────────┴─────────────────┴─────────────────┴───────┴─────────────────┴─────────────────┘\n"
     ]
    }
   ],
   "source": [
    "df_to_clean_full = pl.DataFrame({\n",
    "    \"source\": source_of_text,\n",
    "    \"first_half\": [i[0] for i in half_splits],\n",
    "    \"second_half\": [i[1] for i in half_splits],\n",
    "    \"label\": label,\n",
    "    \"first_half_length\": first_half_length,\n",
    "    \"second_half_length\": second_half_length\n",
    "})\n",
    "\n",
    "print(df_to_clean_full)"
   ],
   "metadata": {
    "collapsed": false,
    "ExecuteTime": {
     "end_time": "2024-12-10T04:36:32.818316Z",
     "start_time": "2024-12-10T04:36:32.816113Z"
    }
   },
   "id": "9f7cb0a1fed4809e"
  },
  {
   "cell_type": "code",
   "execution_count": 43,
   "outputs": [
    {
     "name": "stdout",
     "output_type": "stream",
     "text": [
      "88208\n",
      "True\n"
     ]
    }
   ],
   "source": [
    "# filtering super short sentences\n",
    "df_short_removed = df_to_clean_full.filter(\n",
    "    ~((pl.col(\"first_half_length\") < 200) | (pl.col(\"second_half_length\") < 200))\n",
    ")\n",
    "\n",
    "print(len(df_short_removed))\n",
    "print(len(df_short_removed) == len(df_to_clean_full) - num_short_sentences)"
   ],
   "metadata": {
    "collapsed": false,
    "ExecuteTime": {
     "end_time": "2024-12-10T04:36:35.776999Z",
     "start_time": "2024-12-10T04:36:35.769945Z"
    }
   },
   "id": "a3a8aa37cee56b89"
  },
  {
   "cell_type": "code",
   "execution_count": 44,
   "outputs": [],
   "source": [
    "# removing duplicated texts\n",
    "df_short_dup_removed = df_short_removed.filter(\n",
    "    ~df_short_removed[\"first_half\"].is_duplicated() & ~df_short_removed[\"second_half\"].is_duplicated()\n",
    ")"
   ],
   "metadata": {
    "collapsed": false,
    "ExecuteTime": {
     "end_time": "2024-12-10T04:36:37.476898Z",
     "start_time": "2024-12-10T04:36:37.424261Z"
    }
   },
   "id": "1a51ad5af281df48"
  },
  {
   "cell_type": "code",
   "execution_count": 45,
   "outputs": [
    {
     "name": "stdout",
     "output_type": "stream",
     "text": [
      "891\n"
     ]
    }
   ],
   "source": [
    "print(len(df_short_removed)- len(df_short_dup_removed))"
   ],
   "metadata": {
    "collapsed": false,
    "ExecuteTime": {
     "end_time": "2024-12-10T04:36:37.840068Z",
     "start_time": "2024-12-10T04:36:37.835244Z"
    }
   },
   "id": "be26f97e0b8a2548"
  },
  {
   "cell_type": "code",
   "execution_count": 46,
   "outputs": [
    {
     "data": {
      "text/plain": "87317"
     },
     "execution_count": 46,
     "metadata": {},
     "output_type": "execute_result"
    }
   ],
   "source": [
    "len(df_short_dup_removed)"
   ],
   "metadata": {
    "collapsed": false,
    "ExecuteTime": {
     "end_time": "2024-12-10T04:36:38.528426Z",
     "start_time": "2024-12-10T04:36:38.519902Z"
    }
   },
   "id": "19f46b88c0d3a8ec"
  },
  {
   "cell_type": "markdown",
   "source": [
    "### Performing sentence pair swaps"
   ],
   "metadata": {
    "collapsed": false
   },
   "id": "e32a1db534a536e9"
  },
  {
   "cell_type": "code",
   "execution_count": 47,
   "outputs": [
    {
     "name": "stdout",
     "output_type": "stream",
     "text": [
      "Number of unique non-reddit authors: 94\n"
     ]
    }
   ],
   "source": [
    "unique_authors_barring_reddit = np.unique(\n",
    "    [i for i in df_short_dup_removed[\"source\"] if i[-4:] != \".csv\"]\n",
    ") \n",
    "\n",
    "print(\n",
    "    \"Number of unique non-reddit authors:\",\n",
    "    len(unique_authors_barring_reddit)\n",
    ")"
   ],
   "metadata": {
    "collapsed": false,
    "ExecuteTime": {
     "end_time": "2024-12-10T04:36:42.758009Z",
     "start_time": "2024-12-10T04:36:42.719517Z"
    }
   },
   "id": "574a3e41ffc6a653"
  },
  {
   "cell_type": "code",
   "execution_count": 48,
   "outputs": [
    {
     "name": "stdout",
     "output_type": "stream",
     "text": [
      "True\n"
     ]
    }
   ],
   "source": [
    "author_type = []\n",
    "\n",
    "for i in df_short_dup_removed[\"source\"]:\n",
    "    if i[-4:] == \".txt\":\n",
    "        author_type.append(\"book\")\n",
    "    elif i[-4:] == \".csv\":\n",
    "        author_type.append(\"reddit\")\n",
    "    else:\n",
    "        author_type.append(\"goodreads\")\n",
    "\n",
    "print(len(author_type) == len(df_short_dup_removed))"
   ],
   "metadata": {
    "collapsed": false,
    "ExecuteTime": {
     "end_time": "2024-12-10T04:36:43.433096Z",
     "start_time": "2024-12-10T04:36:43.406401Z"
    }
   },
   "id": "5485f30971f53050"
  },
  {
   "cell_type": "code",
   "execution_count": 49,
   "outputs": [
    {
     "data": {
      "text/plain": "shape: (87_317, 7)\n┌─────────────┬───────────────┬───────────────┬──────────────┬───────┬──────────────┬──────────────┐\n│ source_type ┆ source        ┆ first_half    ┆ second_half  ┆ label ┆ first_half_l ┆ second_half_ │\n│ ---         ┆ ---           ┆ ---           ┆ ---          ┆ ---   ┆ ength        ┆ length       │\n│ str         ┆ str           ┆ str           ┆ str          ┆ i64   ┆ ---          ┆ ---          │\n│             ┆               ┆               ┆              ┆       ┆ i64          ┆ i64          │\n╞═════════════╪═══════════════╪═══════════════╪══════════════╪═══════╪══════════════╪══════════════╡\n│ reddit      ┆ suicidewatch_ ┆ Hello. I      ┆ I found it   ┆ 1     ┆ 2308         ┆ 2371         │\n│             ┆ data.csv      ┆ don't really  ┆ so quickly   ┆       ┆              ┆              │\n│             ┆               ┆ know how…     ┆ that I …     ┆       ┆              ┆              │\n│ reddit      ┆ suicidewatch_ ┆ I don't know  ┆ It just      ┆ 1     ┆ 1631         ┆ 1667         │\n│             ┆ data.csv      ┆ what to say   ┆ reflected    ┆       ┆              ┆              │\n│             ┆               ┆ or do…        ┆ how after a… ┆       ┆              ┆              │\n│ reddit      ┆ suicidewatch_ ┆ . and was     ┆ shift (heh   ┆ 1     ┆ 208          ┆ 234          │\n│             ┆ data.csv      ┆ asked to      ┆ -- suicide   ┆       ┆              ┆              │\n│             ┆               ┆ please 'wat…  ┆ hotline;…    ┆       ┆              ┆              │\n│ reddit      ┆ suicidewatch_ ┆ I saw it on   ┆ There is     ┆ 1     ┆ 390          ┆ 484          │\n│             ┆ data.csv      ┆ twitter.      ┆ true evil in ┆       ┆              ┆              │\n│             ┆               ┆ Multiple …    ┆ this wo…     ┆       ┆              ┆              │\n│ reddit      ┆ suicidewatch_ ┆ If you say    ┆ I've been    ┆ 1     ┆ 355          ┆ 291          │\n│             ┆ data.csv      ┆ you're so     ┆ serious all  ┆       ┆              ┆              │\n│             ┆               ┆ depressed…    ┆ along. …     ┆       ┆              ┆              │\n│ …           ┆ …             ┆ …             ┆ …            ┆ …     ┆ …            ┆ …            │\n│ book        ┆ Doctrina      ┆ Receiving     ┆ They will    ┆ 1     ┆ 1281         ┆ 1294         │\n│             ┆ Christiana    ┆ bread from    ┆ marvel at us ┆       ┆              ┆              │\n│             ┆ .txt          ┆ us, they …    ┆ and wi…      ┆       ┆              ┆              │\n│ book        ┆ Doctrina      ┆ The most      ┆ her hands    ┆ 1     ┆ 1191         ┆ 1218         │\n│             ┆ Christiana    ┆ painful       ┆ the mystery  ┆       ┆              ┆              │\n│             ┆ .txt          ┆ secrets of    ┆ , shall …    ┆       ┆              ┆              │\n│             ┆               ┆ th…           ┆              ┆       ┆              ┆              │\n│ book        ┆ Doctrina      ┆ I know you    ┆ I tell you   ┆ 1     ┆ 1271         ┆ 1363         │\n│             ┆ Christiana    ┆ would all     ┆ that, the    ┆       ┆              ┆              │\n│             ┆ .txt          ┆ like it t…    ┆ boy was …    ┆       ┆              ┆              │\n│ book        ┆ Doctrina      ┆ And so, in    ┆ That was     ┆ 1     ┆ 1254         ┆ 1251         │\n│             ┆ Christiana    ┆ order to      ┆ Ilushas own  ┆       ┆              ┆              │\n│             ┆ .txt          ┆ train him …   ┆ account …    ┆       ┆              ┆              │\n│ book        ┆ Doctrina      ┆ That was my   ┆ But he       ┆ 1     ┆ 988          ┆ 1076         │\n│             ┆ Christiana    ┆ intention.    ┆ suddenly met ┆       ┆              ┆              │\n│             ┆ .txt          ┆ But wha…      ┆ my eyes. …   ┆       ┆              ┆              │\n└─────────────┴───────────────┴───────────────┴──────────────┴───────┴──────────────┴──────────────┘",
      "text/html": "<div><style>\n.dataframe > thead > tr,\n.dataframe > tbody > tr {\n  text-align: right;\n  white-space: pre-wrap;\n}\n</style>\n<small>shape: (87_317, 7)</small><table border=\"1\" class=\"dataframe\"><thead><tr><th>source_type</th><th>source</th><th>first_half</th><th>second_half</th><th>label</th><th>first_half_length</th><th>second_half_length</th></tr><tr><td>str</td><td>str</td><td>str</td><td>str</td><td>i64</td><td>i64</td><td>i64</td></tr></thead><tbody><tr><td>&quot;reddit&quot;</td><td>&quot;suicidewatch_data.csv&quot;</td><td>&quot;Hello. I don&#x27;t really know how…</td><td>&quot; I found it so quickly that I …</td><td>1</td><td>2308</td><td>2371</td></tr><tr><td>&quot;reddit&quot;</td><td>&quot;suicidewatch_data.csv&quot;</td><td>&quot;I don&#x27;t know what to say or do…</td><td>&quot; It just reflected how after a…</td><td>1</td><td>1631</td><td>1667</td></tr><tr><td>&quot;reddit&quot;</td><td>&quot;suicidewatch_data.csv&quot;</td><td>&quot;. and was asked to please &#x27;wat…</td><td>&quot;shift (heh -- suicide hotline;…</td><td>1</td><td>208</td><td>234</td></tr><tr><td>&quot;reddit&quot;</td><td>&quot;suicidewatch_data.csv&quot;</td><td>&quot;I saw it on twitter. Multiple …</td><td>&quot; There is true evil in this wo…</td><td>1</td><td>390</td><td>484</td></tr><tr><td>&quot;reddit&quot;</td><td>&quot;suicidewatch_data.csv&quot;</td><td>&quot;If you say you&#x27;re so depressed…</td><td>&quot; I&#x27;ve been serious all along. …</td><td>1</td><td>355</td><td>291</td></tr><tr><td>&hellip;</td><td>&hellip;</td><td>&hellip;</td><td>&hellip;</td><td>&hellip;</td><td>&hellip;</td><td>&hellip;</td></tr><tr><td>&quot;book&quot;</td><td>&quot;Doctrina Christiana .txt&quot;</td><td>&quot;Receiving bread from us, they …</td><td>&quot; They will marvel at us and wi…</td><td>1</td><td>1281</td><td>1294</td></tr><tr><td>&quot;book&quot;</td><td>&quot;Doctrina Christiana .txt&quot;</td><td>&quot;The most painful secrets of th…</td><td>&quot;her hands the mystery , shall …</td><td>1</td><td>1191</td><td>1218</td></tr><tr><td>&quot;book&quot;</td><td>&quot;Doctrina Christiana .txt&quot;</td><td>&quot;I know you would all like it t…</td><td>&quot; I tell you that, the boy was …</td><td>1</td><td>1271</td><td>1363</td></tr><tr><td>&quot;book&quot;</td><td>&quot;Doctrina Christiana .txt&quot;</td><td>&quot;And so, in order to train him …</td><td>&quot; That was Ilushas own account …</td><td>1</td><td>1254</td><td>1251</td></tr><tr><td>&quot;book&quot;</td><td>&quot;Doctrina Christiana .txt&quot;</td><td>&quot;That was my intention. But wha…</td><td>&quot; But he suddenly met my eyes. …</td><td>1</td><td>988</td><td>1076</td></tr></tbody></table></div>"
     },
     "execution_count": 49,
     "metadata": {},
     "output_type": "execute_result"
    }
   ],
   "source": [
    "df_short_dup_removed.insert_column(\n",
    "    0, \n",
    "    pl.Series(\n",
    "        \"source_type\",\n",
    "        author_type,\n",
    "    )\n",
    ")"
   ],
   "metadata": {
    "collapsed": false,
    "ExecuteTime": {
     "end_time": "2024-12-10T04:36:44.504478Z",
     "start_time": "2024-12-10T04:36:44.492398Z"
    }
   },
   "id": "344d9cda055babcd"
  },
  {
   "cell_type": "code",
   "execution_count": 50,
   "outputs": [],
   "source": [
    "df_minus_reddit = df_short_dup_removed.filter(~(pl.col(\"source_type\") == \"reddit\"))"
   ],
   "metadata": {
    "collapsed": false,
    "ExecuteTime": {
     "end_time": "2024-12-10T04:36:46.431283Z",
     "start_time": "2024-12-10T04:36:46.414316Z"
    }
   },
   "id": "88e11f2da84f16de"
  },
  {
   "cell_type": "code",
   "execution_count": 51,
   "outputs": [
    {
     "data": {
      "text/plain": "dict_keys(['source_type', 'source', 'first_half', 'second_half', 'label', 'first_half_length', 'second_half_length'])"
     },
     "execution_count": 51,
     "metadata": {},
     "output_type": "execute_result"
    }
   ],
   "source": [
    "df_dictionary = df_minus_reddit.to_dict()\n",
    "df_dictionary.keys()"
   ],
   "metadata": {
    "collapsed": false,
    "ExecuteTime": {
     "end_time": "2024-12-10T04:36:50.079996Z",
     "start_time": "2024-12-10T04:36:50.072710Z"
    }
   },
   "id": "c4398d40e155f9ee"
  },
  {
   "cell_type": "code",
   "execution_count": 52,
   "outputs": [
    {
     "data": {
      "text/plain": "True"
     },
     "execution_count": 52,
     "metadata": {},
     "output_type": "execute_result"
    }
   ],
   "source": [
    "len(df_dictionary[\"label\"]) == len(df_minus_reddit)"
   ],
   "metadata": {
    "collapsed": false,
    "ExecuteTime": {
     "end_time": "2024-12-10T04:36:51.566277Z",
     "start_time": "2024-12-10T04:36:51.553169Z"
    }
   },
   "id": "8f44a4bfe474a5ab"
  },
  {
   "cell_type": "code",
   "execution_count": 77,
   "outputs": [
    {
     "name": "stderr",
     "output_type": "stream",
     "text": [
      "Swaps done: 100%|██████████| 19431/19431 [03:38<00:00, 88.91it/s] \n"
     ]
    }
   ],
   "source": [
    "swaps = 0\n",
    "total_swaps = len(df_minus_reddit) // 4  \n",
    "indices_swapped = set() \n",
    "\n",
    "with tqdm(total=total_swaps, desc=\"Swaps done\") as pbar:\n",
    "    while swaps < total_swaps:\n",
    "        # randomly choosing two distinct indices\n",
    "        index1, index2 = random.sample(range(len(df_minus_reddit)), 2)\n",
    "        \n",
    "        # swaps only for books and goodreads and if the authors are different\n",
    "        if (\n",
    "                index1 != index2 \n",
    "                and index1 not in indices_swapped \n",
    "                and index2 not in indices_swapped\n",
    "                and df_dictionary[\"source\"][index1] != df_dictionary[\"source\"][index2]\n",
    "                and df_dictionary[\"source_type\"][index1] == df_dictionary[\"source_type\"][index2]\n",
    "                # and df_dictionary[\"source\"][index1][-4:] != \".csv\"\n",
    "                # and df_dictionary[\"source\"][index1][-4:] != \".csv\"   \n",
    "        ):\n",
    "            \n",
    "            len_idx1 = len(df_dictionary[\"second_half\"][index1])\n",
    "            len_idx2 = len(df_dictionary[\"second_half\"][index2])\n",
    "            \n",
    "            if np.abs(len_idx1 - len_idx2) / len_idx1 < 1:\n",
    "                # performing the swaps\n",
    "                (\n",
    "                    df_dictionary[\"second_half\"][index1], \n",
    "                    df_dictionary[\"second_half\"][index2]\n",
    "                ) = (\n",
    "                    df_dictionary[\"second_half\"][index2], \n",
    "                    df_dictionary[\"second_half\"][index1]\n",
    "                )\n",
    "                \n",
    "                # updating the labels\n",
    "                # 0 = different authors\n",
    "                df_dictionary[\"label\"][index1] = 0\n",
    "                df_dictionary[\"label\"][index2] = 0\n",
    "            \n",
    "                # recording indices that have been swapped so \n",
    "                # that they aren't chosen a second time\n",
    "                indices_swapped.add(index1)\n",
    "                indices_swapped.add(index2)\n",
    "                \n",
    "                # updating the progress bar\n",
    "                swaps += 1\n",
    "                pbar.update(1)"
   ],
   "metadata": {
    "collapsed": false,
    "ExecuteTime": {
     "end_time": "2024-12-10T04:52:51.527018Z",
     "start_time": "2024-12-10T04:49:12.989205Z"
    }
   },
   "id": "64b1fc799f1ce931"
  },
  {
   "cell_type": "code",
   "execution_count": 78,
   "outputs": [
    {
     "name": "stdout",
     "output_type": "stream",
     "text": [
      "The new acquired data has 50.0% unmatched sentences.\n"
     ]
    }
   ],
   "source": [
    "unmatched_num = len([i for i in df_dictionary['label'] if i == 0])\n",
    "\n",
    "print(\n",
    "    f\"The new acquired data has \"\n",
    "    f\"{100 * np.round((unmatched_num / len(df_minus_reddit)), 4)}\"\n",
    "    f\"% unmatched sentences.\"\n",
    ")"
   ],
   "metadata": {
    "collapsed": false,
    "ExecuteTime": {
     "end_time": "2024-12-10T04:52:51.532918Z",
     "start_time": "2024-12-10T04:52:51.529802Z"
    }
   },
   "id": "b4eb946bb1afdfce"
  },
  {
   "cell_type": "markdown",
   "source": [
    "##### Now, swapping text written by the same authors"
   ],
   "metadata": {
    "collapsed": false
   },
   "id": "a0050abf7c6463ab"
  },
  {
   "cell_type": "code",
   "execution_count": 82,
   "outputs": [
    {
     "name": "stderr",
     "output_type": "stream",
     "text": [
      "Swaps done: 100%|██████████| 11103/11103 [03:14<00:00, 57.21it/s]\n"
     ]
    }
   ],
   "source": [
    "swaps = 0\n",
    "total_swaps = len(df_minus_reddit) // 7\n",
    "indices_swapped = set() \n",
    "\n",
    "with tqdm(total=total_swaps, desc=\"Swaps done\") as pbar:\n",
    "    while swaps < total_swaps:\n",
    "        # randomly choosing two distinct indices\n",
    "        index1, index2 = random.sample(range(len(df_minus_reddit)), 2)\n",
    "        \n",
    "        # swaps only for books and goodreads and if the authors are different\n",
    "        if (\n",
    "                index1 != index2 \n",
    "                and index1 not in indices_swapped \n",
    "                and index2 not in indices_swapped\n",
    "                and df_dictionary[\"source\"][index1] == df_dictionary[\"source\"][index2]\n",
    "        ):\n",
    "            len_idx1 = len(df_dictionary[\"second_half\"][index1])\n",
    "            len_idx2 = len(df_dictionary[\"second_half\"][index2])\n",
    "            \n",
    "            len_idx1_ = len(df_dictionary[\"first_half\"][index1])\n",
    "            len_idx2_ = len(df_dictionary[\"first_half\"][index2])\n",
    "            \n",
    "            if np.abs(len_idx1 - len_idx2) / len_idx1 < 1:\n",
    "                if np.abs(len_idx1_ - len_idx2_) / len_idx1_ < 1:\n",
    "                    # performing the swaps\n",
    "                    (\n",
    "                        df_dictionary[\"second_half\"][index1], \n",
    "                        df_dictionary[\"second_half\"][index2]\n",
    "                    ) = (\n",
    "                        df_dictionary[\"second_half\"][index2], \n",
    "                        df_dictionary[\"second_half\"][index1]\n",
    "                    )\n",
    "                    \n",
    "                    if np.random.choice([1, 2, 3, 4]).item() == 3:\n",
    "                        (\n",
    "                            df_dictionary[\"first_half\"][index1], \n",
    "                            df_dictionary[\"second_half\"][index1]\n",
    "                        ) = (\n",
    "                            df_dictionary[\"second_half\"][index1], \n",
    "                            df_dictionary[\"first_half\"][index1]\n",
    "                        )\n",
    "                        \n",
    "                        (\n",
    "                            df_dictionary[\"first_half\"][index2], \n",
    "                            df_dictionary[\"second_half\"][index2]\n",
    "                        ) = (\n",
    "                            df_dictionary[\"second_half\"][index2], \n",
    "                            df_dictionary[\"first_half\"][index2]\n",
    "                        )\n",
    "                    \n",
    "                    # recording indices that have been swapped so \n",
    "                    # that they aren't chosen a second time\n",
    "                    indices_swapped.add(index1)\n",
    "                    indices_swapped.add(index2)\n",
    "                    \n",
    "                    # updating the progress bar\n",
    "                    swaps += 1\n",
    "                    pbar.update(1)"
   ],
   "metadata": {
    "collapsed": false,
    "ExecuteTime": {
     "end_time": "2024-12-10T04:58:35.688443Z",
     "start_time": "2024-12-10T04:55:21.602252Z"
    }
   },
   "id": "72afdbf5180f12cf"
  },
  {
   "cell_type": "code",
   "execution_count": 83,
   "outputs": [
    {
     "data": {
      "text/plain": "shape: (77_725, 7)\n┌─────────────┬───────────────┬───────────────┬──────────────┬───────┬──────────────┬──────────────┐\n│ source_type ┆ source        ┆ first_half    ┆ second_half  ┆ label ┆ first_half_l ┆ second_half_ │\n│ ---         ┆ ---           ┆ ---           ┆ ---          ┆ ---   ┆ ength        ┆ length       │\n│ str         ┆ str           ┆ str           ┆ str          ┆ i64   ┆ ---          ┆ ---          │\n│             ┆               ┆               ┆              ┆       ┆ i64          ┆ i64          │\n╞═════════════╪═══════════════╪═══════════════╪══════════════╪═══════╪══════════════╪══════════════╡\n│ goodreads   ┆ 843a44e2499ba ┆ I don't know  ┆ In this book ┆ 0     ┆ 551          ┆ 577          │\n│             ┆ 9362b47a089b0 ┆ what it is    ┆ the school   ┆       ┆              ┆              │\n│             ┆ b0ce…         ┆ about …       ┆ is pu…       ┆       ┆              ┆              │\n│ goodreads   ┆ 9003d274774f4 ┆ When          ┆ This book    ┆ 0     ┆ 317          ┆ 253          │\n│             ┆ c47e62f77600b ┆ five-year-old ┆ will         ┆       ┆              ┆              │\n│             ┆ 08ac…         ┆ Kioko final…  ┆ probably be  ┆       ┆              ┆              │\n│             ┆               ┆               ┆ pr…          ┆       ┆              ┆              │\n│ goodreads   ┆ 422e76592e271 ┆ wanted the    ┆ Slick's      ┆ 0     ┆ 1018         ┆ 1043         │\n│             ┆ 7d5d59465d22d ┆ downtrodden   ┆ review       ┆       ┆              ┆              │\n│             ┆ 74d4…         ┆ princes…      ┆ posted on    ┆       ┆              ┆              │\n│             ┆               ┆               ┆ Guilt…       ┆       ┆              ┆              │\n│ goodreads   ┆ 422e76592e271 ┆ The first     ┆ Angeline's   ┆ 0     ┆ 590          ┆ 675          │\n│             ┆ 7d5d59465d22d ┆ scene in the  ┆ review       ┆       ┆              ┆              │\n│             ┆ 74d4…         ┆ book w…       ┆ posted at    ┆       ┆              ┆              │\n│             ┆               ┆               ┆ Gu…          ┆       ┆              ┆              │\n│ goodreads   ┆ b7772313835ce ┆ I loved Jake  ┆ in           ┆ 0     ┆ 237          ┆ 331          │\n│             ┆ 6257a3fbe7ad2 ┆ there's only  ┆ hyperbolic   ┆       ┆              ┆              │\n│             ┆ 649a…         ┆ so m…         ┆ fashion      ┆       ┆              ┆              │\n│             ┆               ┆               ┆ here, ne…    ┆       ┆              ┆              │\n│ …           ┆ …             ┆ …             ┆ …            ┆ …     ┆ …            ┆ …            │\n│ book        ┆ Doctrina      ┆ Receiving     ┆ He           ┆ 0     ┆ 1281         ┆ 1294         │\n│             ┆ Christiana    ┆ bread from    ┆ recognized   ┆       ┆              ┆              │\n│             ┆ .txt          ┆ us, they …    ┆ the fact     ┆       ┆              ┆              │\n│             ┆               ┆               ┆ that o…      ┆       ┆              ┆              │\n│ book        ┆ Doctrina      ┆ The most      ┆ to our       ┆ 0     ┆ 1191         ┆ 1218         │\n│             ┆ Christiana    ┆ painful       ┆ Saviour,     ┆       ┆              ┆              │\n│             ┆ .txt          ┆ secrets of    ┆ \"Thou art    ┆       ┆              ┆              │\n│             ┆               ┆ th…           ┆ Chri…        ┆       ┆              ┆              │\n│ book        ┆ Doctrina      ┆ I know you    ┆ I tell you   ┆ 1     ┆ 1271         ┆ 1363         │\n│             ┆ Christiana    ┆ would all     ┆ that, the    ┆       ┆              ┆              │\n│             ┆ .txt          ┆ like it t…    ┆ boy was …    ┆       ┆              ┆              │\n│ book        ┆ Doctrina      ┆ And so, in    ┆ That was     ┆ 1     ┆ 1254         ┆ 1251         │\n│             ┆ Christiana    ┆ order to      ┆ Ilushas own  ┆       ┆              ┆              │\n│             ┆ .txt          ┆ train him …   ┆ account …    ┆       ┆              ┆              │\n│ book        ┆ Doctrina      ┆ That was my   ┆ But he       ┆ 1     ┆ 988          ┆ 1076         │\n│             ┆ Christiana    ┆ intention.    ┆ suddenly met ┆       ┆              ┆              │\n│             ┆ .txt          ┆ But wha…      ┆ my eyes. …   ┆       ┆              ┆              │\n└─────────────┴───────────────┴───────────────┴──────────────┴───────┴──────────────┴──────────────┘",
      "text/html": "<div><style>\n.dataframe > thead > tr,\n.dataframe > tbody > tr {\n  text-align: right;\n  white-space: pre-wrap;\n}\n</style>\n<small>shape: (77_725, 7)</small><table border=\"1\" class=\"dataframe\"><thead><tr><th>source_type</th><th>source</th><th>first_half</th><th>second_half</th><th>label</th><th>first_half_length</th><th>second_half_length</th></tr><tr><td>str</td><td>str</td><td>str</td><td>str</td><td>i64</td><td>i64</td><td>i64</td></tr></thead><tbody><tr><td>&quot;goodreads&quot;</td><td>&quot;843a44e2499ba9362b47a089b0b0ce…</td><td>&quot;I don&#x27;t know what it is about …</td><td>&quot; In this book the school is pu…</td><td>0</td><td>551</td><td>577</td></tr><tr><td>&quot;goodreads&quot;</td><td>&quot;9003d274774f4c47e62f77600b08ac…</td><td>&quot;When five-year-old Kioko final…</td><td>&quot; This book will probably be pr…</td><td>0</td><td>317</td><td>253</td></tr><tr><td>&quot;goodreads&quot;</td><td>&quot;422e76592e2717d5d59465d22d74d4…</td><td>&quot;wanted the downtrodden princes…</td><td>&quot;Slick&#x27;s review posted on Guilt…</td><td>0</td><td>1018</td><td>1043</td></tr><tr><td>&quot;goodreads&quot;</td><td>&quot;422e76592e2717d5d59465d22d74d4…</td><td>&quot; The first scene in the book w…</td><td>&quot;Angeline&#x27;s review posted at Gu…</td><td>0</td><td>590</td><td>675</td></tr><tr><td>&quot;goodreads&quot;</td><td>&quot;b7772313835ce6257a3fbe7ad2649a…</td><td>&quot;I loved Jake there&#x27;s only so m…</td><td>&quot;in hyperbolic fashion here, ne…</td><td>0</td><td>237</td><td>331</td></tr><tr><td>&hellip;</td><td>&hellip;</td><td>&hellip;</td><td>&hellip;</td><td>&hellip;</td><td>&hellip;</td><td>&hellip;</td></tr><tr><td>&quot;book&quot;</td><td>&quot;Doctrina Christiana .txt&quot;</td><td>&quot;Receiving bread from us, they …</td><td>&quot; He recognized the fact that o…</td><td>0</td><td>1281</td><td>1294</td></tr><tr><td>&quot;book&quot;</td><td>&quot;Doctrina Christiana .txt&quot;</td><td>&quot;The most painful secrets of th…</td><td>&quot;to our Saviour, &quot;Thou art Chri…</td><td>0</td><td>1191</td><td>1218</td></tr><tr><td>&quot;book&quot;</td><td>&quot;Doctrina Christiana .txt&quot;</td><td>&quot;I know you would all like it t…</td><td>&quot; I tell you that, the boy was …</td><td>1</td><td>1271</td><td>1363</td></tr><tr><td>&quot;book&quot;</td><td>&quot;Doctrina Christiana .txt&quot;</td><td>&quot;And so, in order to train him …</td><td>&quot; That was Ilushas own account …</td><td>1</td><td>1254</td><td>1251</td></tr><tr><td>&quot;book&quot;</td><td>&quot;Doctrina Christiana .txt&quot;</td><td>&quot;That was my intention. But wha…</td><td>&quot; But he suddenly met my eyes. …</td><td>1</td><td>988</td><td>1076</td></tr></tbody></table></div>"
     },
     "execution_count": 83,
     "metadata": {},
     "output_type": "execute_result"
    }
   ],
   "source": [
    "df_dictionary_df = pl.DataFrame(df_dictionary)\n",
    "df_dictionary_df"
   ],
   "metadata": {
    "collapsed": false,
    "ExecuteTime": {
     "end_time": "2024-12-10T04:58:35.691415Z",
     "start_time": "2024-12-10T04:58:35.688931Z"
    }
   },
   "id": "7777855f5ac16357"
  },
  {
   "cell_type": "code",
   "execution_count": 84,
   "outputs": [
    {
     "name": "stderr",
     "output_type": "stream",
     "text": [
      "/var/folders/25/8pnrgwt571b68wq6t25hql4w0000gn/T/ipykernel_76963/538083436.py:4: DeprecationWarning: `GroupBy.count` is deprecated. It has been renamed to `len`.\n",
      "  .count()\n"
     ]
    }
   ],
   "source": [
    "less_common_authors = (\n",
    "    df_dictionary_df.select(\"source\")\n",
    "    .group_by(\"source\")\n",
    "    .count()\n",
    "    .sort(by=\"count\") #, descending=True)\n",
    " )[:30][\"source\"].to_list()"
   ],
   "metadata": {
    "collapsed": false,
    "ExecuteTime": {
     "end_time": "2024-12-10T04:58:35.709521Z",
     "start_time": "2024-12-10T04:58:35.691578Z"
    }
   },
   "id": "ed3f718dabc5c236"
  },
  {
   "cell_type": "code",
   "execution_count": 85,
   "outputs": [
    {
     "name": "stderr",
     "output_type": "stream",
     "text": [
      "/var/folders/25/8pnrgwt571b68wq6t25hql4w0000gn/T/ipykernel_76963/2424161683.py:4: DeprecationWarning: `GroupBy.count` is deprecated. It has been renamed to `len`.\n",
      "  .count()\n"
     ]
    }
   ],
   "source": [
    "few_more_common_authors = (\n",
    "    df_dictionary_df.select(\"source\")\n",
    "    .group_by(\"source\")\n",
    "    .count()\n",
    "    .sort(by=\"count\", descending=True)\n",
    " )[18:23][\"source\"].to_list()"
   ],
   "metadata": {
    "collapsed": false,
    "ExecuteTime": {
     "end_time": "2024-12-10T04:58:35.710145Z",
     "start_time": "2024-12-10T04:58:35.695389Z"
    }
   },
   "id": "9876a12124cda500"
  },
  {
   "cell_type": "code",
   "execution_count": 86,
   "outputs": [
    {
     "data": {
      "text/plain": "35"
     },
     "execution_count": 86,
     "metadata": {},
     "output_type": "execute_result"
    }
   ],
   "source": [
    "authors_in_validation = less_common_authors + few_more_common_authors\n",
    "len(authors_in_validation)"
   ],
   "metadata": {
    "collapsed": false,
    "ExecuteTime": {
     "end_time": "2024-12-10T04:58:35.738800Z",
     "start_time": "2024-12-10T04:58:35.698418Z"
    }
   },
   "id": "eb2dd6bec44dacad"
  },
  {
   "cell_type": "code",
   "execution_count": 87,
   "outputs": [
    {
     "data": {
      "text/plain": "shape: (77_725, 8)\n┌────────────┬────────────┬────────────┬────────────┬───────┬────────────┬────────────┬────────────┐\n│ source_typ ┆ source     ┆ first_half ┆ second_hal ┆ label ┆ first_half ┆ second_hal ┆ TEXT       │\n│ e          ┆ ---        ┆ ---        ┆ f          ┆ ---   ┆ _length    ┆ f_length   ┆ ---        │\n│ ---        ┆ str        ┆ str        ┆ ---        ┆ i64   ┆ ---        ┆ ---        ┆ str        │\n│ str        ┆            ┆            ┆ str        ┆       ┆ i64        ┆ i64        ┆            │\n╞════════════╪════════════╪════════════╪════════════╪═══════╪════════════╪════════════╪════════════╡\n│ goodreads  ┆ 843a44e249 ┆ I don't    ┆ In this    ┆ 0     ┆ 551        ┆ 577        ┆ I don't    │\n│            ┆ 9ba9362b47 ┆ know what  ┆ book the   ┆       ┆            ┆            ┆ know what  │\n│            ┆ a089b0b0ce ┆ it is      ┆ school is  ┆       ┆            ┆            ┆ it is      │\n│            ┆ …          ┆ about …    ┆ pu…        ┆       ┆            ┆            ┆ about …    │\n│ goodreads  ┆ 9003d27477 ┆ When five- ┆ This book  ┆ 0     ┆ 317        ┆ 253        ┆ When five- │\n│            ┆ 4f4c47e62f ┆ year-old   ┆ will       ┆       ┆            ┆            ┆ year-old   │\n│            ┆ 77600b08ac ┆ Kioko      ┆ probably   ┆       ┆            ┆            ┆ Kioko      │\n│            ┆ …          ┆ final…     ┆ be pr…     ┆       ┆            ┆            ┆ final…     │\n│ goodreads  ┆ 422e76592e ┆ wanted the ┆ Slick's    ┆ 0     ┆ 1018       ┆ 1043       ┆ wanted the │\n│            ┆ 2717d5d594 ┆ downtrodde ┆ review     ┆       ┆            ┆            ┆ downtrodde │\n│            ┆ 65d22d74d4 ┆ n princes… ┆ posted on  ┆       ┆            ┆            ┆ n princes… │\n│            ┆ …          ┆            ┆ Guilt…     ┆       ┆            ┆            ┆            │\n│ goodreads  ┆ 422e76592e ┆ The first  ┆ Angeline's ┆ 0     ┆ 590        ┆ 675        ┆ The first  │\n│            ┆ 2717d5d594 ┆ scene in   ┆ review     ┆       ┆            ┆            ┆ scene in   │\n│            ┆ 65d22d74d4 ┆ the book   ┆ posted at  ┆       ┆            ┆            ┆ the book   │\n│            ┆ …          ┆ w…         ┆ Gu…        ┆       ┆            ┆            ┆ w…         │\n│ goodreads  ┆ b777231383 ┆ I loved    ┆ in         ┆ 0     ┆ 237        ┆ 331        ┆ I loved    │\n│            ┆ 5ce6257a3f ┆ Jake       ┆ hyperbolic ┆       ┆            ┆            ┆ Jake       │\n│            ┆ be7ad2649a ┆ there's    ┆ fashion    ┆       ┆            ┆            ┆ there's    │\n│            ┆ …          ┆ only so m… ┆ here, ne…  ┆       ┆            ┆            ┆ only so m… │\n│ …          ┆ …          ┆ …          ┆ …          ┆ …     ┆ …          ┆ …          ┆ …          │\n│ book       ┆ Doctrina   ┆ Receiving  ┆ He         ┆ 0     ┆ 1281       ┆ 1294       ┆ Receiving  │\n│            ┆ Christiana ┆ bread from ┆ recognized ┆       ┆            ┆            ┆ bread from │\n│            ┆ .txt       ┆ us, they … ┆ the fact   ┆       ┆            ┆            ┆ us, they … │\n│            ┆            ┆            ┆ that o…    ┆       ┆            ┆            ┆            │\n│ book       ┆ Doctrina   ┆ The most   ┆ to our     ┆ 0     ┆ 1191       ┆ 1218       ┆ The most   │\n│            ┆ Christiana ┆ painful    ┆ Saviour,   ┆       ┆            ┆            ┆ painful    │\n│            ┆ .txt       ┆ secrets of ┆ \"Thou art  ┆       ┆            ┆            ┆ secrets of │\n│            ┆            ┆ th…        ┆ Chri…      ┆       ┆            ┆            ┆ th…        │\n│ book       ┆ Doctrina   ┆ I know you ┆ I tell you ┆ 1     ┆ 1271       ┆ 1363       ┆ I know you │\n│            ┆ Christiana ┆ would all  ┆ that, the  ┆       ┆            ┆            ┆ would all  │\n│            ┆ .txt       ┆ like it t… ┆ boy was …  ┆       ┆            ┆            ┆ like it t… │\n│ book       ┆ Doctrina   ┆ And so, in ┆ That was   ┆ 1     ┆ 1254       ┆ 1251       ┆ And so, in │\n│            ┆ Christiana ┆ order to   ┆ Ilushas    ┆       ┆            ┆            ┆ order to   │\n│            ┆ .txt       ┆ train him  ┆ own        ┆       ┆            ┆            ┆ train him  │\n│            ┆            ┆ …          ┆ account …  ┆       ┆            ┆            ┆ …          │\n│ book       ┆ Doctrina   ┆ That was   ┆ But he     ┆ 1     ┆ 988        ┆ 1076       ┆ That was   │\n│            ┆ Christiana ┆ my         ┆ suddenly   ┆       ┆            ┆            ┆ my         │\n│            ┆ .txt       ┆ intention. ┆ met my     ┆       ┆            ┆            ┆ intention. │\n│            ┆            ┆ But wha…   ┆ eyes. …    ┆       ┆            ┆            ┆ But wha…   │\n└────────────┴────────────┴────────────┴────────────┴───────┴────────────┴────────────┴────────────┘",
      "text/html": "<div><style>\n.dataframe > thead > tr,\n.dataframe > tbody > tr {\n  text-align: right;\n  white-space: pre-wrap;\n}\n</style>\n<small>shape: (77_725, 8)</small><table border=\"1\" class=\"dataframe\"><thead><tr><th>source_type</th><th>source</th><th>first_half</th><th>second_half</th><th>label</th><th>first_half_length</th><th>second_half_length</th><th>TEXT</th></tr><tr><td>str</td><td>str</td><td>str</td><td>str</td><td>i64</td><td>i64</td><td>i64</td><td>str</td></tr></thead><tbody><tr><td>&quot;goodreads&quot;</td><td>&quot;843a44e2499ba9362b47a089b0b0ce…</td><td>&quot;I don&#x27;t know what it is about …</td><td>&quot; In this book the school is pu…</td><td>0</td><td>551</td><td>577</td><td>&quot;I don&#x27;t know what it is about …</td></tr><tr><td>&quot;goodreads&quot;</td><td>&quot;9003d274774f4c47e62f77600b08ac…</td><td>&quot;When five-year-old Kioko final…</td><td>&quot; This book will probably be pr…</td><td>0</td><td>317</td><td>253</td><td>&quot;When five-year-old Kioko final…</td></tr><tr><td>&quot;goodreads&quot;</td><td>&quot;422e76592e2717d5d59465d22d74d4…</td><td>&quot;wanted the downtrodden princes…</td><td>&quot;Slick&#x27;s review posted on Guilt…</td><td>0</td><td>1018</td><td>1043</td><td>&quot;wanted the downtrodden princes…</td></tr><tr><td>&quot;goodreads&quot;</td><td>&quot;422e76592e2717d5d59465d22d74d4…</td><td>&quot; The first scene in the book w…</td><td>&quot;Angeline&#x27;s review posted at Gu…</td><td>0</td><td>590</td><td>675</td><td>&quot; The first scene in the book w…</td></tr><tr><td>&quot;goodreads&quot;</td><td>&quot;b7772313835ce6257a3fbe7ad2649a…</td><td>&quot;I loved Jake there&#x27;s only so m…</td><td>&quot;in hyperbolic fashion here, ne…</td><td>0</td><td>237</td><td>331</td><td>&quot;I loved Jake there&#x27;s only so m…</td></tr><tr><td>&hellip;</td><td>&hellip;</td><td>&hellip;</td><td>&hellip;</td><td>&hellip;</td><td>&hellip;</td><td>&hellip;</td><td>&hellip;</td></tr><tr><td>&quot;book&quot;</td><td>&quot;Doctrina Christiana .txt&quot;</td><td>&quot;Receiving bread from us, they …</td><td>&quot; He recognized the fact that o…</td><td>0</td><td>1281</td><td>1294</td><td>&quot;Receiving bread from us, they …</td></tr><tr><td>&quot;book&quot;</td><td>&quot;Doctrina Christiana .txt&quot;</td><td>&quot;The most painful secrets of th…</td><td>&quot;to our Saviour, &quot;Thou art Chri…</td><td>0</td><td>1191</td><td>1218</td><td>&quot;The most painful secrets of th…</td></tr><tr><td>&quot;book&quot;</td><td>&quot;Doctrina Christiana .txt&quot;</td><td>&quot;I know you would all like it t…</td><td>&quot; I tell you that, the boy was …</td><td>1</td><td>1271</td><td>1363</td><td>&quot;I know you would all like it t…</td></tr><tr><td>&quot;book&quot;</td><td>&quot;Doctrina Christiana .txt&quot;</td><td>&quot;And so, in order to train him …</td><td>&quot; That was Ilushas own account …</td><td>1</td><td>1254</td><td>1251</td><td>&quot;And so, in order to train him …</td></tr><tr><td>&quot;book&quot;</td><td>&quot;Doctrina Christiana .txt&quot;</td><td>&quot;That was my intention. But wha…</td><td>&quot; But he suddenly met my eyes. …</td><td>1</td><td>988</td><td>1076</td><td>&quot;That was my intention. But wha…</td></tr></tbody></table></div>"
     },
     "execution_count": 87,
     "metadata": {},
     "output_type": "execute_result"
    }
   ],
   "source": [
    "# combining sentence halves with \"[SNIPPET]\" in between\n",
    "df_dictionary_df = df_dictionary_df.with_columns(\n",
    "    pl.concat_str(\n",
    "        [pl.col(\"first_half\"), pl.lit(\" [SNIPPET] \"), pl.col(\"second_half\")]\n",
    "    ).alias(\"TEXT\")\n",
    ")\n",
    "\n",
    "df_dictionary_df"
   ],
   "metadata": {
    "collapsed": false,
    "ExecuteTime": {
     "end_time": "2024-12-10T04:58:35.757006Z",
     "start_time": "2024-12-10T04:58:35.700848Z"
    }
   },
   "id": "109fd275619e543c"
  },
  {
   "cell_type": "code",
   "execution_count": 88,
   "outputs": [],
   "source": [
    "# renaming label to LABEL\n",
    "df_dictionary_df = df_dictionary_df.rename({\"label\": \"LABEL\",})"
   ],
   "metadata": {
    "collapsed": false,
    "ExecuteTime": {
     "end_time": "2024-12-10T04:58:35.757097Z",
     "start_time": "2024-12-10T04:58:35.718814Z"
    }
   },
   "id": "559ca5237c122bae"
  },
  {
   "cell_type": "code",
   "execution_count": 89,
   "outputs": [
    {
     "data": {
      "text/plain": "shape: (5, 9)\n┌────────┬────────────┬────────────┬────────────┬───┬───────┬────────────┬────────────┬────────────┐\n│ ID     ┆ source_typ ┆ source     ┆ first_half ┆ … ┆ LABEL ┆ first_half ┆ second_hal ┆ TEXT       │\n│ ---    ┆ e          ┆ ---        ┆ ---        ┆   ┆ ---   ┆ _length    ┆ f_length   ┆ ---        │\n│ i64    ┆ ---        ┆ str        ┆ str        ┆   ┆ i64   ┆ ---        ┆ ---        ┆ str        │\n│        ┆ str        ┆            ┆            ┆   ┆       ┆ i64        ┆ i64        ┆            │\n╞════════╪════════════╪════════════╪════════════╪═══╪═══════╪════════════╪════════════╪════════════╡\n│ 427855 ┆ goodreads  ┆ 843a44e249 ┆ I don't    ┆ … ┆ 0     ┆ 551        ┆ 577        ┆ I don't    │\n│        ┆            ┆ 9ba9362b47 ┆ know what  ┆   ┆       ┆            ┆            ┆ know what  │\n│        ┆            ┆ a089b0b0ce ┆ it is      ┆   ┆       ┆            ┆            ┆ it is      │\n│        ┆            ┆ …          ┆ about …    ┆   ┆       ┆            ┆            ┆ about …    │\n│ 419516 ┆ goodreads  ┆ 9003d27477 ┆ When five- ┆ … ┆ 0     ┆ 317        ┆ 253        ┆ When five- │\n│        ┆            ┆ 4f4c47e62f ┆ year-old   ┆   ┆       ┆            ┆            ┆ year-old   │\n│        ┆            ┆ 77600b08ac ┆ Kioko      ┆   ┆       ┆            ┆            ┆ Kioko      │\n│        ┆            ┆ …          ┆ final…     ┆   ┆       ┆            ┆            ┆ final…     │\n│ 279521 ┆ goodreads  ┆ 422e76592e ┆ wanted the ┆ … ┆ 0     ┆ 1018       ┆ 1043       ┆ wanted the │\n│        ┆            ┆ 2717d5d594 ┆ downtrodde ┆   ┆       ┆            ┆            ┆ downtrodde │\n│        ┆            ┆ 65d22d74d4 ┆ n princes… ┆   ┆       ┆            ┆            ┆ n princes… │\n│        ┆            ┆ …          ┆            ┆   ┆       ┆            ┆            ┆            │\n│ 996684 ┆ goodreads  ┆ 422e76592e ┆ The first  ┆ … ┆ 0     ┆ 590        ┆ 675        ┆ The first  │\n│        ┆            ┆ 2717d5d594 ┆ scene in   ┆   ┆       ┆            ┆            ┆ scene in   │\n│        ┆            ┆ 65d22d74d4 ┆ the book   ┆   ┆       ┆            ┆            ┆ the book   │\n│        ┆            ┆ …          ┆ w…         ┆   ┆       ┆            ┆            ┆ w…         │\n│ 289712 ┆ goodreads  ┆ b777231383 ┆ I loved    ┆ … ┆ 0     ┆ 237        ┆ 331        ┆ I loved    │\n│        ┆            ┆ 5ce6257a3f ┆ Jake       ┆   ┆       ┆            ┆            ┆ Jake       │\n│        ┆            ┆ be7ad2649a ┆ there's    ┆   ┆       ┆            ┆            ┆ there's    │\n│        ┆            ┆ …          ┆ only so m… ┆   ┆       ┆            ┆            ┆ only so m… │\n└────────┴────────────┴────────────┴────────────┴───┴───────┴────────────┴────────────┴────────────┘",
      "text/html": "<div><style>\n.dataframe > thead > tr,\n.dataframe > tbody > tr {\n  text-align: right;\n  white-space: pre-wrap;\n}\n</style>\n<small>shape: (5, 9)</small><table border=\"1\" class=\"dataframe\"><thead><tr><th>ID</th><th>source_type</th><th>source</th><th>first_half</th><th>second_half</th><th>LABEL</th><th>first_half_length</th><th>second_half_length</th><th>TEXT</th></tr><tr><td>i64</td><td>str</td><td>str</td><td>str</td><td>str</td><td>i64</td><td>i64</td><td>i64</td><td>str</td></tr></thead><tbody><tr><td>427855</td><td>&quot;goodreads&quot;</td><td>&quot;843a44e2499ba9362b47a089b0b0ce…</td><td>&quot;I don&#x27;t know what it is about …</td><td>&quot; In this book the school is pu…</td><td>0</td><td>551</td><td>577</td><td>&quot;I don&#x27;t know what it is about …</td></tr><tr><td>419516</td><td>&quot;goodreads&quot;</td><td>&quot;9003d274774f4c47e62f77600b08ac…</td><td>&quot;When five-year-old Kioko final…</td><td>&quot; This book will probably be pr…</td><td>0</td><td>317</td><td>253</td><td>&quot;When five-year-old Kioko final…</td></tr><tr><td>279521</td><td>&quot;goodreads&quot;</td><td>&quot;422e76592e2717d5d59465d22d74d4…</td><td>&quot;wanted the downtrodden princes…</td><td>&quot;Slick&#x27;s review posted on Guilt…</td><td>0</td><td>1018</td><td>1043</td><td>&quot;wanted the downtrodden princes…</td></tr><tr><td>996684</td><td>&quot;goodreads&quot;</td><td>&quot;422e76592e2717d5d59465d22d74d4…</td><td>&quot; The first scene in the book w…</td><td>&quot;Angeline&#x27;s review posted at Gu…</td><td>0</td><td>590</td><td>675</td><td>&quot; The first scene in the book w…</td></tr><tr><td>289712</td><td>&quot;goodreads&quot;</td><td>&quot;b7772313835ce6257a3fbe7ad2649a…</td><td>&quot;I loved Jake there&#x27;s only so m…</td><td>&quot;in hyperbolic fashion here, ne…</td><td>0</td><td>237</td><td>331</td><td>&quot;I loved Jake there&#x27;s only so m…</td></tr></tbody></table></div>"
     },
     "execution_count": 89,
     "metadata": {},
     "output_type": "execute_result"
    }
   ],
   "source": [
    "# adding an ID columns with serial indices\n",
    "df_dictionary_df.insert_column(\n",
    "    0, \n",
    "    pl.Series(\n",
    "        \"ID\",\n",
    "        list(np.random.randint(100000, 999999) for _ in range(len(df_dictionary_df))),\n",
    "    )\n",
    ")\n",
    "\n",
    "df_dictionary_df.head()"
   ],
   "metadata": {
    "collapsed": false,
    "ExecuteTime": {
     "end_time": "2024-12-10T04:58:35.823065Z",
     "start_time": "2024-12-10T04:58:35.720779Z"
    }
   },
   "id": "edabaca5ffcd2b8a"
  },
  {
   "cell_type": "code",
   "execution_count": 90,
   "outputs": [
    {
     "data": {
      "text/plain": "\"Kampung Boy (Budak Kampung) is an autobiography in the form of a graphic novel. It covers Lat's childhood in the 1950s and 1960s in a village in the Kinta Valley. It starts with his birth and ends with his father riding with him to the boarding school as a teen. I found this book tucked between a number of manga series at my local library. I was drawn in by the title and the publisher / importer: :01 (same publisher as Life Sucks). I flipped through the book, liked the art style and found the first few pages captivating. [SNIPPET]  Stylistically Kampung Boy reminds me most of Three Shadows by Cyril Pedrosa (another :01 import) (). There's a similarity with the jutting jaws, wiggly legs and the basic energy of all the characters (especially the children). What's thankfully missing from Kampung Boy is the underlying tragedy of Three Shadows. Besides being a fun coming of age story, Kampung Boy was educational for me. I went into the book knowing next to nothing about Malaysia. I came away with a better feeling for some of the country's culture and a desire to learn more. The sequel to Kampung Boy is called Town Boy. I hope to find a copy to read.\""
     },
     "execution_count": 90,
     "metadata": {},
     "output_type": "execute_result"
    }
   ],
   "source": [
    "df_dictionary_df.filter(pl.col(\"LABEL\") == 1)[\"TEXT\"][0]"
   ],
   "metadata": {
    "collapsed": false,
    "ExecuteTime": {
     "end_time": "2024-12-10T04:58:35.823220Z",
     "start_time": "2024-12-10T04:58:35.801164Z"
    }
   },
   "id": "26b911d5b8668822"
  },
  {
   "cell_type": "markdown",
   "source": [
    "### Creating and saving training and validation sets"
   ],
   "metadata": {
    "collapsed": false
   },
   "id": "62b62c34e8eb817c"
  },
  {
   "cell_type": "code",
   "execution_count": 91,
   "outputs": [
    {
     "data": {
      "text/plain": "70729"
     },
     "execution_count": 91,
     "metadata": {},
     "output_type": "execute_result"
    }
   ],
   "source": [
    "new_training_set = df_dictionary_df.filter(\n",
    "    ~(pl.col(\"source\").is_in(authors_in_validation))\n",
    ")\n",
    "\n",
    "len(new_training_set)"
   ],
   "metadata": {
    "collapsed": false,
    "ExecuteTime": {
     "end_time": "2024-12-10T04:58:35.823359Z",
     "start_time": "2024-12-10T04:58:35.805273Z"
    }
   },
   "id": "6985beba3c233c0"
  },
  {
   "cell_type": "code",
   "execution_count": 92,
   "outputs": [],
   "source": [
    "new_training_set = new_training_set.sample(fraction=1, shuffle=True, seed=894552352)\n",
    "new_training_set.write_csv(\n",
    "    \"./data/improved_train.csv\"\n",
    ")"
   ],
   "metadata": {
    "collapsed": false,
    "ExecuteTime": {
     "end_time": "2024-12-10T05:02:59.653664Z",
     "start_time": "2024-12-10T05:02:59.585786Z"
    }
   },
   "id": "b52c1ad4fa2e05c8"
  },
  {
   "cell_type": "code",
   "execution_count": 93,
   "outputs": [],
   "source": [
    "new_validation_set = df_dictionary_df.filter(\n",
    "    pl.col(\"source\").is_in(authors_in_validation)\n",
    ")\n",
    "\n",
    "new_validation_set = new_validation_set.sample(fraction=1, shuffle=True, seed=894552352)\n",
    "new_validation_set.write_csv(\n",
    "    \"./data/improved_val.csv\"\n",
    ")"
   ],
   "metadata": {
    "collapsed": false,
    "ExecuteTime": {
     "end_time": "2024-12-10T05:03:05.236780Z",
     "start_time": "2024-12-10T05:03:05.225107Z"
    }
   },
   "id": "cafdf59dacdc7e16"
  },
  {
   "cell_type": "code",
   "execution_count": 94,
   "outputs": [
    {
     "data": {
      "text/plain": "True"
     },
     "execution_count": 94,
     "metadata": {},
     "output_type": "execute_result"
    }
   ],
   "source": [
    "len(new_training_set) + len(new_validation_set) == len(df_dictionary_df)"
   ],
   "metadata": {
    "collapsed": false,
    "ExecuteTime": {
     "end_time": "2024-12-10T05:03:06.092847Z",
     "start_time": "2024-12-10T05:03:06.086898Z"
    }
   },
   "id": "801a554ff08129a3"
  },
  {
   "cell_type": "code",
   "execution_count": null,
   "outputs": [],
   "source": [],
   "metadata": {
    "collapsed": false
   },
   "id": "f37aeb75ffcec955"
  }
 ],
 "metadata": {
  "kernelspec": {
   "display_name": "Python 3",
   "language": "python",
   "name": "python3"
  },
  "language_info": {
   "codemirror_mode": {
    "name": "ipython",
    "version": 2
   },
   "file_extension": ".py",
   "mimetype": "text/x-python",
   "name": "python",
   "nbconvert_exporter": "python",
   "pygments_lexer": "ipython2",
   "version": "2.7.6"
  }
 },
 "nbformat": 4,
 "nbformat_minor": 5
}
