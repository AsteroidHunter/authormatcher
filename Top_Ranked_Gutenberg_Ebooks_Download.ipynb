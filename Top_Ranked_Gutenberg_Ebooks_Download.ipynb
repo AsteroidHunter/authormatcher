{
 "cells": [
  {
   "cell_type": "markdown",
   "metadata": {
    "id": "view-in-github",
    "colab_type": "text"
   },
   "source": [
    "# Note about the source: \n",
    "This script was downloaded from [this repository](https://github.com/SatriaImawan12/Top-Ranked-Gutenberg-Ebooks-Download). \n",
    "Minimal modifications and corrections were made, but most of the script remains as is. "
   ]
  },
  {
   "cell_type": "markdown",
   "metadata": {
    "id": "BbxOTry0XYwR"
   },
   "source": [
    "## Top Gutenberg Ebooks (yesterday's ranking) download\n",
    "\n",
    "### What is Project Gutenberg? -\n",
    "Project Gutenberg is a volunteer effort to digitize and archive cultural works, to \"encourage the creation and distribution of eBooks\". It was founded in 1971 by American writer Michael S. Hart and is the **oldest digital library.** This longest-established ebook project releases books that entered the public domain, and can be freely read or downloaded in various electronic formats.\n",
    "\n",
    "* **This starter code scrapes the url of the Project Gutenberg's Top 100 ebooks (yesterday's ranking) for identifying the ebook links.**\n",
    "* **It uses BeautifulSoup4 for parsing the HTML and regular expression code for identifying the Top 100 ebook file numbers.**\n",
    "* **It includes a function to take an usser input on how many books to download and then crawls the server to download them in a dictionary object.**\n",
    "* **Finally, it also includes a function to save the downloaded Ebooks as text files in a local directory.**"
   ]
  },
  {
   "cell_type": "code",
   "execution_count": 1,
   "metadata": {
    "id": "KnWW6iyMXYwV",
    "ExecuteTime": {
     "end_time": "2024-12-02T20:14:31.863532Z",
     "start_time": "2024-12-02T20:14:31.828962Z"
    }
   },
   "outputs": [],
   "source": [
    "import urllib.request, urllib.parse, urllib.error\n",
    "from tqdm import tqdm\n",
    "from bs4 import BeautifulSoup\n",
    "import ssl\n",
    "import re\n",
    "import os"
   ]
  },
  {
   "cell_type": "markdown",
   "metadata": {
    "id": "6LWdfR0MXYwW"
   },
   "source": [
    "#### Ignore SSL certificate errors"
   ]
  },
  {
   "cell_type": "code",
   "execution_count": 2,
   "metadata": {
    "id": "v2_V4OxJXYwW",
    "ExecuteTime": {
     "end_time": "2024-12-02T20:14:31.870026Z",
     "start_time": "2024-12-02T20:14:31.864467Z"
    }
   },
   "outputs": [],
   "source": [
    "# Ignore SSL certificate errors\n",
    "ctx = ssl.create_default_context()\n",
    "ctx.check_hostname = False\n",
    "ctx.verify_mode = ssl.CERT_NONE"
   ]
  },
  {
   "cell_type": "markdown",
   "metadata": {
    "id": "Ry9Z8fR-XYwX"
   },
   "source": [
    "#### Read the HTML from the URL and pass on to BeautifulSoup"
   ]
  },
  {
   "cell_type": "code",
   "execution_count": 3,
   "metadata": {
    "colab": {
     "base_uri": "https://localhost:8080/"
    },
    "id": "BGbteOi2XYwX",
    "outputId": "04bb6605-8953-489b-e8cc-57c15ad0e7eb",
    "ExecuteTime": {
     "end_time": "2024-12-02T20:14:32.223085Z",
     "start_time": "2024-12-02T20:14:31.870807Z"
    }
   },
   "outputs": [
    {
     "name": "stdout",
     "output_type": "stream",
     "text": [
      "Opening the file connection to https://www.gutenberg.org/browse/scores/top\n",
      "Connection established and HTML parsed...\n"
     ]
    }
   ],
   "source": [
    "# Read the HTML from the URL and pass on to BeautifulSoup\n",
    "top100url = 'https://www.gutenberg.org/browse/scores/top'\n",
    "url = top100url\n",
    "print(f\"Opening the file connection to {url}\")\n",
    "html = urllib.request.urlopen(url, context=ctx).read()\n",
    "soup = BeautifulSoup(html, 'html.parser')\n",
    "print(\"Connection established and HTML parsed...\")"
   ]
  },
  {
   "cell_type": "markdown",
   "metadata": {
    "id": "L7u7xf0SXYwY"
   },
   "source": [
    "#### Find all the _'href'_ tags and store them in the list of links"
   ]
  },
  {
   "cell_type": "code",
   "execution_count": 4,
   "metadata": {
    "id": "RvxiVnMYXYwY",
    "ExecuteTime": {
     "end_time": "2024-12-02T20:14:32.225522Z",
     "start_time": "2024-12-02T20:14:32.223613Z"
    }
   },
   "outputs": [],
   "source": [
    "# Empty list to hold all the http links in the HTML page\n",
    "lst_links=[]"
   ]
  },
  {
   "cell_type": "code",
   "execution_count": 5,
   "metadata": {
    "id": "69wfK9h-XYwZ",
    "ExecuteTime": {
     "end_time": "2024-12-02T20:14:32.228591Z",
     "start_time": "2024-12-02T20:14:32.226789Z"
    }
   },
   "outputs": [],
   "source": [
    "# Find all the href tags and store them in the list of links\n",
    "for link in soup.find_all('a'):\n",
    "    #print(link.get('href'))\n",
    "    lst_links.append(link.get('href'))"
   ]
  },
  {
   "cell_type": "markdown",
   "metadata": {
    "id": "ovvAHdz4XYwZ"
   },
   "source": [
    "#### Use regular expression to find the numeric digits in these links. These are the file number for the Top 100 books."
   ]
  },
  {
   "cell_type": "code",
   "execution_count": 6,
   "metadata": {
    "id": "OWQhvOB6XYwZ",
    "ExecuteTime": {
     "end_time": "2024-12-02T20:14:32.239200Z",
     "start_time": "2024-12-02T20:14:32.228287Z"
    }
   },
   "outputs": [],
   "source": [
    "# Use regular expression to find the numeric digits in these links. These are the file number for the Top 100 books.\n",
    "# Initialize empty list to hold the file numbers\n",
    "booknum=[]"
   ]
  },
  {
   "cell_type": "code",
   "execution_count": 7,
   "metadata": {
    "colab": {
     "base_uri": "https://localhost:8080/"
    },
    "id": "CKDgPu_hXYwa",
    "outputId": "885f8b6d-17b7-43e4-bcd0-558df0ab3125",
    "ExecuteTime": {
     "end_time": "2024-12-02T20:14:32.239358Z",
     "start_time": "2024-12-02T20:14:32.231133Z"
    }
   },
   "outputs": [
    {
     "name": "stdout",
     "output_type": "stream",
     "text": [
      "\n",
      "The file numbers for the top 100 ebooks on Gutenberg are shown below\n",
      "----------------------------------------------------------------------\n",
      "[1, 1, 7, 7, 30, 30, 25558, 84, 2701, 1513, 100, 46, 2641, 145, 37106, 11, 67979, 16389, 1342, 6761, 394, 6593, 2160, 4085, 1259, 5197, 27104, 2542, 174, 25344, 43, 5200, 844, 2554, 64317, 76, 1080, 7700, 1260, 345, 24162, 55, 74822, 98, 28054, 1952, 1232, 1400, 1661, 2650, 16119, 1998, 3207, 2600, 74818, 4300, 5740, 7370, 1184, 4363, 2591, 50150, 23, 408, 2000, 6130, 3296, 74, 24022, 36034, 219, 34901, 205, 768, 135, 35899, 1727, 30508, 1497, 45, 514, 2814, 30254, 2680, 996, 244, 8800, 67098, 10615, 10676, 2852]\n"
     ]
    }
   ],
   "source": [
    "# Number 19 to 119 in the original list of links have the Top 100 books' number.\n",
    "for i in range(19, 119):\n",
    "\tlink=lst_links[i]\n",
    "\tlink=link.strip()\n",
    "\t# Regular expression to find the numeric digits in the link (href) string\n",
    "\tn=re.findall('[0-9]+',link)\n",
    "\tif len(n)==1:\n",
    "\t\t# Append the file number cast as an integer\n",
    "\t\tbooknum.append(int(n[0]))\n",
    "\n",
    "print (\"\\nThe file numbers for the top 100 ebooks on Gutenberg are shown below\\n\"+\"-\"*70)\n",
    "print(booknum)"
   ]
  },
  {
   "cell_type": "markdown",
   "metadata": {
    "id": "G6Rkm-0eXYwa"
   },
   "source": [
    "#### Search in the extracted text (using Regular Expression) from the soup object to find the names of top 100 Ebooks (Yesterday's rank)"
   ]
  },
  {
   "cell_type": "code",
   "execution_count": 8,
   "metadata": {
    "id": "UMrvvLIYXYwa",
    "ExecuteTime": {
     "end_time": "2024-12-02T20:14:32.266433Z",
     "start_time": "2024-12-02T20:14:32.264839Z"
    }
   },
   "outputs": [],
   "source": [
    "start_idx=soup.text.splitlines().index('Top 100 EBooks yesterday')\n",
    "lst_titles_temp=[] # Empty list of Ebook names\n",
    "for i in range(100):\n",
    "    lst_titles_temp.append(soup.text.splitlines()[start_idx+2+i])"
   ]
  },
  {
   "cell_type": "code",
   "execution_count": 9,
   "metadata": {
    "colab": {
     "base_uri": "https://localhost:8080/"
    },
    "id": "OYa1p-R3XYwa",
    "outputId": "90ed2ee3-ef5e-40fa-e7fc-1f018bd6386f",
    "ExecuteTime": {
     "end_time": "2024-12-02T20:14:32.269488Z",
     "start_time": "2024-12-02T20:14:32.267609Z"
    }
   },
   "outputs": [
    {
     "name": "stdout",
     "output_type": "stream",
     "text": [
      "\n",
      "Frankenstein\n",
      "Moby Dick\n",
      "Romeo and Juliet by William Shakespeare \n",
      "The Complete Works of William Shakespeare by William Shakespeare \n",
      "A Christmas Carol in Prose\n",
      "A Room with a View by E\n",
      "Middlemarch by George Eliot \n",
      "Little Women\n",
      "Alice\n",
      "The Blue Castle\n",
      "The Enchanted April by Elizabeth Von Arnim \n",
      "Pride and Prejudice by Jane Austen \n",
      "The Adventures of Ferdinand Count Fathom \n",
      "Cranford by Elizabeth Cleghorn Gaskell \n",
      "History of Tom Jones\n",
      "The Expedition of Humphry Clinker by T\n",
      "The Adventures of Roderick Random by T\n",
      "Twenty years after by Alexandre Dumas and Auguste Maquet \n",
      "My Life \n",
      "\n",
      "A Doll\n",
      "The Picture of Dorian Gray by Oscar Wilde \n",
      "The Scarlet Letter by Nathaniel Hawthorne \n",
      "The Strange Case of Dr\n",
      "Metamorphosis by Franz Kafka \n",
      "The Importance of Being Earnest\n",
      "Crime and Punishment by Fyodor Dostoyevsky \n",
      "The Great Gatsby by F\n",
      "Adventures of Huckleberry Finn by Mark Twain \n",
      "A Modest Proposal by Jonathan Swift \n",
      "Lysistrata by Aristophanes \n",
      "Jane Eyre\n",
      "Dracula by Bram Stoker \n",
      "\n",
      "The Wonderful Wizard of Oz by L\n",
      "Our trip to Blunderland \n",
      "A Tale of Two Cities by Charles Dickens \n",
      "The Brothers Karamazov by Fyodor Dostoyevsky \n",
      "The Yellow Wallpaper by Charlotte Perkins Gilman \n",
      "The Prince by Niccol\n",
      "Great Expectations by Charles Dickens \n",
      "The Adventures of Sherlock Holmes by Arthur Conan Doyle \n",
      "Du c\n",
      "Doctrina Christiana \n",
      "Thus Spake Zarathustra\n",
      "Leviathan by Thomas Hobbes \n",
      "War and Peace by graf Leo Tolstoy \n",
      "Anonymity \n",
      "Ulysses by James Joyce \n",
      "Tractatus Logico\n",
      "Second Treatise of Government by John Locke \n",
      "The Count of Monte Cristo by Alexandre Dumas and Auguste Maquet \n",
      "Beyond Good and Evil by Friedrich Wilhelm Nietzsche \n",
      "Grimms\n",
      "The Devil is an Ass by Ben Jonson \n",
      "Narrative of the Life of Frederick Douglass\n",
      "The Souls of Black Folk by W\n",
      "Don Quijote by Miguel de Cervantes Saavedra \n",
      "The Iliad by Homer \n",
      "The Confessions of St\n",
      "The Adventures of Tom Sawyer\n",
      "A Christmas Carol by Charles Dickens \n",
      "White Nights and Other Stories by Fyodor Dostoyevsky \n",
      "Heart of Darkness by Joseph Conrad \n",
      "On Liberty by John Stuart Mill \n",
      "Walden\n",
      "Wuthering Heights by Emily Bront\n",
      "Les Mis\n",
      "The Philippines a Century Hence by Jos\n",
      "The Odyssey by Homer \n",
      "The Instruction of Ptah\n",
      "The Republic by Plato \n",
      "Anne of Green Gables by L\n",
      "Little Women by Louisa May Alcott \n",
      "Dubliners by James Joyce \n",
      "The Romance of Lust\n",
      "Meditations by Emperor of Rome Marcus Aurelius \n",
      "Don Quixote by Miguel de Cervantes Saavedra \n",
      "A Study in Scarlet by Arthur Conan Doyle \n",
      "The divine comedy by Dante Alighieri \n",
      "Winnie\n",
      "An Essay Concerning Humane Understanding\n",
      "The Reign of Greed by Jos\n",
      "The Hound of the Baskervilles by Arthur Conan Doyle \n",
      "The Legend of Sleepy Hollow by Washington Irving \n",
      "Novo dicion\n",
      "Aux pays du Soudan \n",
      "Calculus Made Easy by Silvanus P\n",
      "The Tragical History of Doctor Faustus by Christopher Marlowe \n",
      "The Kama Sutra of Vatsyayana by Vatsyayana \n",
      "Les mis\n",
      "Josefine Mutzenbacher by Felix Salten \n",
      "The Problems of Philosophy by Bertrand Russell \n",
      "Le Morte d\n",
      "Anna Karenina by graf Leo Tolstoy \n",
      "Lord Lister no\n",
      "Beowulf\n",
      "Simple Sabotage Field Manual by United States\n",
      "Carmilla by Joseph Sheridan Le Fanu \n"
     ]
    }
   ],
   "source": [
    "# Use regular expression to extract only text from the name strings and append to an empty list\n",
    "lst_titles=[]\n",
    "for i in range(100):\n",
    "    id1,id2=re.match('^[a-zA-Z ]*',lst_titles_temp[i]).span()\n",
    "    lst_titles.append(lst_titles_temp[i][id1:id2])\n",
    "for l in lst_titles:\n",
    "    print(l)"
   ]
  },
  {
   "cell_type": "markdown",
   "metadata": {
    "id": "S52B2LGAXYwa"
   },
   "source": [
    "### Define a function that takes an user input of how many top books to download and crawls the server to download"
   ]
  },
  {
   "cell_type": "code",
   "execution_count": 10,
   "metadata": {
    "id": "WJ6Vau1yXYwa",
    "ExecuteTime": {
     "end_time": "2024-12-02T20:14:32.273815Z",
     "start_time": "2024-12-02T20:14:32.272547Z"
    }
   },
   "outputs": [],
   "source": [
    "def download_top_books(num_download=10, verbosity=0):\n",
    "    \"\"\"\n",
    "    Function: Download top N books from Gutenberg.org where N is specified by user\n",
    "    Verbosity: If verbosity is turned on (set to 1) then prints the downloading status for every book\n",
    "    Returns: Returns a dictionary where keys are the names of the books and values are the raw text.\n",
    "    Exception Handling: If a book is not found on the server (due to broken link or whatever reason), inserts \"NOT FOUND\" as the text.\n",
    "    \"\"\"\n",
    "    topEBooks = {}\n",
    "\n",
    "    if num_download<=0:\n",
    "        print(\"I guess no download is necessary\")\n",
    "        return topEBooks\n",
    "\n",
    "    if num_download>100:\n",
    "        print(\"You asked for more than 100 downloads.\\nUnfortunately, Gutenberg ranks only top 100 books.\\nProceeding to download top 100 books.\")\n",
    "        num_download=100\n",
    "\n",
    "    # Base URL for files repository\n",
    "    baseurl= 'http://www.gutenberg.org/files/'\n",
    "\n",
    "    if verbosity==1:\n",
    "        count_done=0\n",
    "        for i in range(num_download):\n",
    "            print (\"Working on book:\", lst_titles[i])\n",
    "\n",
    "            # Create the proper download link (url) from the book id\n",
    "            # You have to examine the Gutenberg.org file structure carefully to come up with the proper url\n",
    "            bookid=booknum[i]\n",
    "            bookurl= baseurl+str(bookid)+'/'+str(bookid)+'-0.txt'\n",
    "            # Create a file handler object\n",
    "            try:\n",
    "                fhand = urllib.request.urlopen(bookurl)\n",
    "                txt_dump = ''\n",
    "                # Iterate over the lines in the file handler object and dump the data into the text string\n",
    "                for line in fhand:\n",
    "                    # Use decode method to convert the UTF-8 to Unicode string\n",
    "                    txt_dump+=line.decode()\n",
    "                # Add downloaded text to the dictionary with keys matching the list of book titles.\n",
    "                # This puts the raw text as the value of the key of the dictionary bearing the name of the Ebook\n",
    "                topEBooks[lst_titles[i]]=txt_dump\n",
    "                count_done+=1\n",
    "                print (f\"Finished downloading {round(100*count_done/num_download,2)}%\")\n",
    "            except urllib.error.URLError as e:\n",
    "                topEBooks[lst_titles[i]]=\"NOT FOUND\"\n",
    "                count_done+=1\n",
    "                print(f\"**ERROR: {lst_titles[i]} {e.reason}**\")\n",
    "    else:\n",
    "        count_done=0\n",
    "        for i in tqdm(range(num_download),desc='Download % completed',dynamic_ncols=True):\n",
    "            # Create the proper download link (url) from the book id\n",
    "            # You have to examine the Gutenberg.org file structure carefully to come up with the proper url\n",
    "            bookid=booknum[i]\n",
    "            bookurl= baseurl+str(bookid)+'/'+str(bookid)+'-0.txt'\n",
    "            # Create a file handler object\n",
    "            try:\n",
    "                fhand = urllib.request.urlopen(bookurl)\n",
    "                txt_dump = ''\n",
    "                # Iterate over the lines in the file handler object and dump the data into the text string\n",
    "                for line in fhand:\n",
    "                    # Use decode method to convert the UTF-8 to Unicode string\n",
    "                    txt_dump+=line.decode()\n",
    "                # Add downloaded text to the dictionary with keys matching the list of book titles.\n",
    "                # This puts the raw text as the value of the key of the dictionary bearing the name of the Ebook\n",
    "                topEBooks[lst_titles[i]]=txt_dump\n",
    "                count_done+=1\n",
    "            except urllib.error.URLError as e:\n",
    "                topEBooks[lst_titles[i]]=\"NOT FOUND\"\n",
    "                count_done+=1\n",
    "                print(f\"**ERROR: {lst_titles[i]} {e.reason}**\")\n",
    "\n",
    "    print (\"-\"*40+\"\\nFinished downloading all books!\\n\"+\"-\"*40)\n",
    "\n",
    "    return (topEBooks)"
   ]
  },
  {
   "cell_type": "markdown",
   "metadata": {
    "id": "c885NQk0XYwb"
   },
   "source": [
    "#### Test the function with verbosity=0 (default)"
   ]
  },
  {
   "cell_type": "code",
   "execution_count": 11,
   "metadata": {
    "colab": {
     "base_uri": "https://localhost:8080/"
    },
    "id": "mJdDdTENXYwb",
    "outputId": "57fabea5-4b93-4f2e-f420-023b2d39cfc1",
    "ExecuteTime": {
     "end_time": "2024-12-02T20:14:32.796743Z",
     "start_time": "2024-12-02T20:14:32.337535Z"
    }
   },
   "outputs": [
    {
     "name": "stderr",
     "output_type": "stream",
     "text": [
      "Download % completed: 100%|██████████| 1/1 [00:00<00:00,  2.23it/s]"
     ]
    },
    {
     "name": "stdout",
     "output_type": "stream",
     "text": [
      "----------------------------------------\n",
      "Finished downloading all books!\n",
      "----------------------------------------\n"
     ]
    },
    {
     "name": "stderr",
     "output_type": "stream",
     "text": [
      "\n"
     ]
    }
   ],
   "source": [
    "dict_books=download_top_books(1)"
   ]
  },
  {
   "cell_type": "markdown",
   "metadata": {
    "id": "gxR-4v1dXYwb"
   },
   "source": [
    "#### Show the final dictionary and an example of the downloaded text"
   ]
  },
  {
   "cell_type": "code",
   "execution_count": 12,
   "metadata": {
    "colab": {
     "base_uri": "https://localhost:8080/"
    },
    "id": "NAVLVcoIXYwb",
    "outputId": "fd1e3cd4-2830-4c1f-fab9-18c5bf5bde88",
    "ExecuteTime": {
     "end_time": "2024-12-02T20:14:33.511770Z",
     "start_time": "2024-12-02T20:14:33.509129Z"
    }
   },
   "outputs": [
    {
     "name": "stdout",
     "output_type": "stream",
     "text": [
      "\r\n",
      "\r\n",
      "===========================================================\r\n",
      "\r\n",
      "     NOTE:  This file combines the first two Project Gutenberg\r\n",
      "     files, both of which were given the filenumber #1. There are\r\n",
      "     several duplicate files here. There were many updates over\r\n",
      "     the years.  All of the original files are included in the\r\n",
      "     \"old\" subdirectory which may be accessed under the \"More\r\n",
      "     Files\" listing in the PG Catalog of this file. No changes\r\n",
      "     have been made in these original etexts.\r\n",
      "\r\n",
      "===========================================================\r\n",
      "\r\n",
      "\r\n",
      "**Welcome To The World of Free Plain Vanilla Electronic Texts**\r\n",
      "\r\n",
      "**Etexts Readable By Both Humans and By Computers, Since 1971**\r\n",
      "\r\n",
      "*These Etexts Prepared By Hundreds of Volunteers and Donations*\r\n",
      "\r\n",
      "Below you will find the first nine Project Gutenberg Etexts, in\r\n",
      "one file, with one header for the entire file.  This is to keep\r\n",
      "the overhead down, and in response to requests from Gopher site\r\n",
      "keeper to eliminate as much of the headers as possible.\r\n",
      "\r\n",
      "However, for legal and financial reasons, we must request these\r\n",
      "headers be left at the beginning of each file that is posted in\r\n",
      "any general user areas, as Project Gutenberg is run mostly by a\r\n",
      "donation from people like you.\r\n",
      "\r\n",
      "If you see our books posted ANYWHERE without these headers, you\r\n",
      "are requested to send them a note requesting they re-attach the\r\n",
      "header, otherwise they have no legal protection and we have the\r\n",
      "loss of the donations we hope will keep Project Guten\n"
     ]
    }
   ],
   "source": [
    "print(dict_books[lst_titles[0]][:1500])"
   ]
  },
  {
   "cell_type": "markdown",
   "metadata": {
    "id": "4M_SySGPXYwb"
   },
   "source": [
    "### Write a function to download and save the downloaded texts"
   ]
  },
  {
   "cell_type": "code",
   "execution_count": 15,
   "metadata": {
    "id": "qNZ0LJNJXYwc",
    "ExecuteTime": {
     "end_time": "2024-12-02T20:15:26.000221Z",
     "start_time": "2024-12-02T20:15:25.995229Z"
    }
   },
   "outputs": [],
   "source": [
    "def save_text_files(num_download=10, verbosity=1):\n",
    "    \"\"\"\n",
    "    Downloads top N books from Gutenberg.org where N is specified by user.\n",
    "    If verbosity is turned on (set to 1) then prints the downloading status for every book.\n",
    "    Asks user for a location on computer where to save the downloaded Ebooks and process accordingly.\n",
    "    Returns status message indicating how many ebooks could be successfully downloaded and saved\n",
    "    \"\"\"\n",
    "\n",
    "    # Download the Ebooks and save in a dictionary object (in-memory)\n",
    "    dict_books=download_top_books(num_download=num_download,verbosity=verbosity)\n",
    "\n",
    "    if dict_books=={}:\n",
    "        return None\n",
    "\n",
    "    # Ask use for a save location (directory path)\n",
    "    savelocation=\"./data/raw/gutenberg_data/\" \n",
    "\n",
    "    count_successful_download=0\n",
    "\n",
    "    # Create a default folder/directory in the current working directory if the input is blank\n",
    "    if (len(savelocation)<1):\n",
    "        savelocation=os.getcwd()+'\\\\'+'Ebooks'+'\\\\'\n",
    "        # Creates new directory if the directory does not exist. Otherwise, just use the existing path.\n",
    "        if not os.path.isdir(savelocation):\n",
    "            os.mkdir(savelocation)\n",
    "    else:\n",
    "        if savelocation[-1]=='\\\\':\n",
    "            os.mkdir(savelocation)\n",
    "        else:\n",
    "            os.mkdir(savelocation+'\\\\')\n",
    "    #print(\"Saving files at:\",savelocation)\n",
    "    for k,v in dict_books.items():\n",
    "        if (v!=\"NOT FOUND\"):\n",
    "            filename=savelocation+str(k)+'.txt'\n",
    "            file=open(filename,'wb')\n",
    "            file.write(v.encode(\"UTF-8\",'ignore'))\n",
    "            file.close()\n",
    "            count_successful_download+=1\n",
    "\n",
    "    # Status message\n",
    "    print (f\"{count_successful_download} book(s) was/were successfully downloaded and saved to the location {savelocation}\")\n",
    "    if (num_download!=count_successful_download):\n",
    "        print(f\"{num_download-count_successful_download} books were not found on the server!\")"
   ]
  },
  {
   "cell_type": "code",
   "execution_count": null,
   "metadata": {
    "colab": {
     "background_save": true,
     "base_uri": "https://localhost:8080/"
    },
    "id": "GuhcQI9tXYwc",
    "scrolled": false,
    "outputId": "9893b4db-01b8-4d62-a68d-1969bbb74420"
   },
   "outputs": [],
   "source": [
    "save_text_files(90, verbosity=1)"
   ]
  },
  {
   "cell_type": "code",
   "execution_count": null,
   "outputs": [],
   "source": [],
   "metadata": {
    "collapsed": false
   }
  }
 ],
 "metadata": {
  "colab": {
   "provenance": [],
   "toc_visible": true,
   "include_colab_link": true
  },
  "kernelspec": {
   "display_name": "Python 3",
   "language": "python",
   "name": "python3"
  },
  "language_info": {
   "codemirror_mode": {
    "name": "ipython",
    "version": 3
   },
   "file_extension": ".py",
   "mimetype": "text/x-python",
   "name": "python",
   "nbconvert_exporter": "python",
   "pygments_lexer": "ipython3",
   "version": "3.6.2"
  },
  "latex_envs": {
   "LaTeX_envs_menu_present": true,
   "autoclose": false,
   "autocomplete": true,
   "bibliofile": "biblio.bib",
   "cite_by": "apalike",
   "current_citInitial": 1,
   "eqLabelWithNumbers": true,
   "eqNumInitial": 1,
   "hotkeys": {
    "equation": "Ctrl-E",
    "itemize": "Ctrl-I"
   },
   "labels_anchors": false,
   "latex_user_defs": false,
   "report_style_numbering": false,
   "user_envs_cfg": false
  }
 },
 "nbformat": 4,
 "nbformat_minor": 0
}
